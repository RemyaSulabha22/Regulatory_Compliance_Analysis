{
 "cells": [
  {
   "cell_type": "markdown",
   "metadata": {
    "id": "pjv-Mu3qq1U_"
   },
   "source": [
    "# **Table of Contents**\n",
    "\n",
    "1. [Introduction](#Section1)<br>\n",
    "2. [Problem Statement](#Section2)<br>\n",
    "3. [Installing & Importing Libraries](#Section3)<br>\n",
    "4. [Data Acquisition & Description](#Section4)<br>\n",
    "5. [Data Pre-processing](#Section5)<br>\n",
    "6. [Exploratory Data Analysis](#Section6)<br>\n",
    "7. [Post Data Processing & Feature Selection](#Section7)<br>\n",
    "8. [Model Development & Evaluation](#Section8)<br>\n",
    "  8.1 [Baseline Models](#Section81)<br>\n",
    "    - 8.1.1 [Random Forest Classifier](#Section811)<br>\n",
    "    - 8.1.2 [Multinomial Naive Bayes Classifier](#Section812)<br>\n",
    "    - 8.1.3 [Logistic Regression](#Section813)<br>\n",
    "\n",
    "  8.2 [Oversampling Models](#Section82)<br>\n",
    "    - 8.2.1 [Random Forest Classifier](#Section821)<br>\n",
    "    - 8.2.2 [Multinomial Naive Bayes Classifier](#Section822)<br>\n",
    "    - 8.2.3 [Logistic Regression](#Section823)<br>\n",
    "9. [Conclusion](#Section9)<br>\n"
   ]
  },
  {
   "cell_type": "markdown",
   "metadata": {
    "id": "vnHKUcPS829O"
   },
   "source": [
    "<a id = Section3></a>\n",
    "# ** Installing & Importing Libraries**"
   ]
  },
  {
   "cell_type": "markdown",
   "metadata": {
    "id": "V7EqW4b3p8Eu"
   },
   "source": [
    "### **Installing Libraries**"
   ]
  },
  {
   "cell_type": "code",
   "execution_count": null,
   "metadata": {
    "colab": {
     "base_uri": "https://localhost:8080/"
    },
    "executionInfo": {
     "elapsed": 16756,
     "status": "ok",
     "timestamp": 1678336365311,
     "user": {
      "displayName": "Yash Chauhan",
      "userId": "03194567605433747724"
     },
     "user_tz": -330
    },
    "id": "zX8hr5dr86kW",
    "outputId": "ff1d97a0-f9b9-4771-d6b2-d5f9f98fab2b"
   },
   "outputs": [
    {
     "name": "stdout",
     "output_type": "stream",
     "text": [
      "\u001b[?25l     \u001b[90m━━━━━━━━━━━━━━━━━━━━━━━━━━━━━━━━━━━━━━━━\u001b[0m \u001b[32m0.0/1.6 MB\u001b[0m \u001b[31m?\u001b[0m eta \u001b[36m-:--:--\u001b[0m\r\u001b[2K     \u001b[91m━━━━━━━━━━━━━━━━━━━━━━━━━━━━━━━━━━━━━━━\u001b[0m\u001b[91m╸\u001b[0m \u001b[32m1.6/1.6 MB\u001b[0m \u001b[31m64.6 MB/s\u001b[0m eta \u001b[36m0:00:01\u001b[0m\r\u001b[2K     \u001b[90m━━━━━━━━━━━━━━━━━━━━━━━━━━━━━━━━━━━━━━━━\u001b[0m \u001b[32m1.6/1.6 MB\u001b[0m \u001b[31m41.6 MB/s\u001b[0m eta \u001b[36m0:00:00\u001b[0m\n",
      "\u001b[?25h"
     ]
    }
   ],
   "source": [
    "!pip install -q datascience                   # Package that is required by pandas profiling\n",
    "!pip install -q pandas-profiling              # Library to generate basic statistics about data\n",
    "!pip install -q yellowbrick                   # A visualization library for Machine Learning\n",
    "!pip install -q imbalanced-learn              # Toolbox for imbalanced dataset"
   ]
  },
  {
   "cell_type": "code",
   "execution_count": null,
   "metadata": {
    "colab": {
     "base_uri": "https://localhost:8080/"
    },
    "executionInfo": {
     "elapsed": 37828,
     "status": "ok",
     "timestamp": 1678336403135,
     "user": {
      "displayName": "Yash Chauhan",
      "userId": "03194567605433747724"
     },
     "user_tz": -330
    },
    "id": "OR5tfAXSqDzc",
    "outputId": "9c20fc71-f5fc-4c8b-bbbf-2e6f4d8ce149"
   },
   "outputs": [
    {
     "name": "stdout",
     "output_type": "stream",
     "text": [
      "\u001b[2K     \u001b[90m━━━━━━━━━━━━━━━━━━━━━━━━━━━━━━━━━━━━━━\u001b[0m \u001b[32m324.4/324.4 KB\u001b[0m \u001b[31m25.0 MB/s\u001b[0m eta \u001b[36m0:00:00\u001b[0m\n",
      "\u001b[2K     \u001b[90m━━━━━━━━━━━━━━━━━━━━━━━━━━━━━━━━━━━━━━\u001b[0m \u001b[32m344.9/344.9 KB\u001b[0m \u001b[31m27.2 MB/s\u001b[0m eta \u001b[36m0:00:00\u001b[0m\n",
      "\u001b[2K     \u001b[90m━━━━━━━━━━━━━━━━━━━━━━━━━━━━━━━━━━━━━━\u001b[0m \u001b[32m102.7/102.7 KB\u001b[0m \u001b[31m11.6 MB/s\u001b[0m eta \u001b[36m0:00:00\u001b[0m\n",
      "\u001b[2K     \u001b[90m━━━━━━━━━━━━━━━━━━━━━━━━━━━━━━━━━━━━━━\u001b[0m \u001b[32m296.5/296.5 KB\u001b[0m \u001b[31m29.3 MB/s\u001b[0m eta \u001b[36m0:00:00\u001b[0m\n",
      "\u001b[2K     \u001b[90m━━━━━━━━━━━━━━━━━━━━━━━━━━━━━━━━━━━━━━━━\u001b[0m \u001b[32m33.8/33.8 MB\u001b[0m \u001b[31m36.6 MB/s\u001b[0m eta \u001b[36m0:00:00\u001b[0m\n",
      "\u001b[2K     \u001b[90m━━━━━━━━━━━━━━━━━━━━━━━━━━━━━━━━━━━━━━━━\u001b[0m \u001b[32m78.5/78.5 KB\u001b[0m \u001b[31m9.5 MB/s\u001b[0m eta \u001b[36m0:00:00\u001b[0m\n",
      "\u001b[2K     \u001b[90m━━━━━━━━━━━━━━━━━━━━━━━━━━━━━━━━━━━━━━\u001b[0m \u001b[32m679.8/679.8 KB\u001b[0m \u001b[31m48.9 MB/s\u001b[0m eta \u001b[36m0:00:00\u001b[0m\n",
      "\u001b[?25h  Preparing metadata (setup.py) ... \u001b[?25l\u001b[?25hdone\n",
      "\u001b[2K     \u001b[90m━━━━━━━━━━━━━━━━━━━━━━━━━━━━━━━━━━━━━━━━\u001b[0m \u001b[32m4.7/4.7 MB\u001b[0m \u001b[31m87.3 MB/s\u001b[0m eta \u001b[36m0:00:00\u001b[0m\n",
      "\u001b[?25h  Building wheel for htmlmin (setup.py) ... \u001b[?25l\u001b[?25hdone\n"
     ]
    }
   ],
   "source": [
    "!pip install -q --upgrade pandas-profiling "
   ]
  },
  {
   "cell_type": "markdown",
   "metadata": {
    "id": "RWvQ1inmqF8_"
   },
   "source": [
    "### **Importing Libraries**"
   ]
  },
  {
   "cell_type": "code",
   "execution_count": null,
   "metadata": {
    "colab": {
     "base_uri": "https://localhost:8080/"
    },
    "executionInfo": {
     "elapsed": 3351,
     "status": "ok",
     "timestamp": 1678336406482,
     "user": {
      "displayName": "Yash Chauhan",
      "userId": "03194567605433747724"
     },
     "user_tz": -330
    },
    "id": "TSVfqMup9eYr",
    "outputId": "6216def6-f86b-4e7a-c262-734475764f07"
   },
   "outputs": [
    {
     "name": "stderr",
     "output_type": "stream",
     "text": [
      "[nltk_data] Downloading package stopwords to /root/nltk_data...\n",
      "[nltk_data]   Unzipping corpora/stopwords.zip.\n"
     ]
    }
   ],
   "source": [
    "# For cmdline interfeace\n",
    "import os\n",
    "\n",
    "# Read Zip files\n",
    "from zipfile import ZipFile\n",
    "\n",
    "# A powerful HTTP client for python\n",
    "import urllib\n",
    "\n",
    "# To Disable Warnings\n",
    "import warnings\n",
    "warnings.filterwarnings(action = \"ignore\")\n",
    "\n",
    "# For Panel Data Analysis\n",
    "import pandas as pd\n",
    "from pandas_profiling import ProfileReport\n",
    "pd.set_option('display.max_columns', None)\n",
    "pd.set_option('display.max_rows', None)\n",
    "pd.set_option('mode.chained_assignment', None)\n",
    "\n",
    "# For Numerical Python\n",
    "import numpy as np\n",
    "\n",
    "# For Random data\n",
    "from random import randint\n",
    "\n",
    "# For Data Visualization\n",
    "import matplotlib.pyplot as plt\n",
    "%matplotlib inline\n",
    "import seaborn as sns\n",
    "\n",
    "# For Data Modeling\n",
    "from sklearn.model_selection import train_test_split\n",
    "from sklearn.linear_model import LogisticRegression\n",
    "from sklearn.naive_bayes import MultinomialNB\n",
    "from sklearn.ensemble import RandomForestClassifier\n",
    "\n",
    "# For metrics evaluation\n",
    "from sklearn.metrics import classification_report\n",
    "from yellowbrick.classifier import PrecisionRecallCurve\n",
    "\n",
    "# To handle class imbalance problem\n",
    "from imblearn.over_sampling import SMOTE\n",
    "\n",
    "# For Natural Language Processing\n",
    "import nltk\n",
    "nltk.download('stopwords')\n",
    "import string\n",
    "from nltk.corpus import stopwords\n",
    "from sklearn.feature_extraction.text import CountVectorizer"
   ]
  },
  {
   "cell_type": "markdown",
   "metadata": {
    "id": "sI0uvwx8-IbB"
   },
   "source": [
    "<a id=Section4></a>\n",
    "# ** Data Acquisition & Description**\n",
    "\n",
    "This data set is **based on consumer complaints** and is provided by Consumer Finance Protection Bureau and can be acquired from the <a href=\"https://www.consumerfinance.gov/data-research/consumer-complaints/\">link</a>. The **Consumer Complaint Database** is a collection of complaints about consumer financial products and services that CFPB sent to companies for response.\n",
    "\n",
    "| Records | Features | Dataset Size |\n",
    "| :-- | :-- | :-- |\n",
    "| 1511240 | 18 | 890 MB|\n",
    "\n",
    "| Id | Features | Description |\n",
    "| :--| :--| :--|\n",
    "|1|**Date received**|Complaint received date.|\n",
    "|2|**Product**|Category of product under which complaint was filed.|\n",
    "|3|**Sub-product**|Category of sub product under which complaint was filed.|\n",
    "|4|**Issue**|Issue with the product and sub-product under complaint filed.|\n",
    "|5|**Sub-issue**|Sub-issue with respect to product and sub-product.|\n",
    "|6|**Consumer complaint narrative**|A complete description of issue about the product|\n",
    "|7|**Company public response**|A public response broadcasted on the issue.|\n",
    "|8|**Company**|Name of the Company with which the product is associated.|\n",
    "|9|**State**|State where the company resides.|\n",
    "|10|**ZIP code**|Zip code of the area where company resides.|\n",
    "|11|**Tags**|Tags associated with the product i.e. Servicemember, Older American.|\n",
    "|12|**Consumer consent provided?**|Whether the consent is provided or not.|\n",
    "|13|**Submitted via**|Complaint filed via Web, Referral, Phone, Postal mail, Fax, Email|\n",
    "|14|**Date sent to company**|Date when this issue was forwared to the respective company.|\n",
    "|15|**Company response to consumer**|Response provided by the company to the consumer.|\n",
    "|16|**Timely response?**|Response time of the complaint filed by the consumer.|\n",
    "|17|**Consumer disputed?**|If there was any dispute over the product filed complaint.|\n",
    "|18|**Complaint ID**| Complaint ID|"
   ]
  },
  {
   "cell_type": "code",
   "execution_count": null,
   "metadata": {
    "colab": {
     "base_uri": "https://localhost:8080/"
    },
    "executionInfo": {
     "elapsed": 26213,
     "status": "ok",
     "timestamp": 1678336323630,
     "user": {
      "displayName": "Yash Chauhan",
      "userId": "03194567605433747724"
     },
     "user_tz": -330
    },
    "id": "UWiVW9xL7MEx",
    "outputId": "482ef327-ece3-4c6e-a9da-2544ea9d176e"
   },
   "outputs": [
    {
     "name": "stdout",
     "output_type": "stream",
     "text": [
      "Archive:  /content/complaints.csv.zip\n",
      "  inflating: complaints.csv          \n"
     ]
    }
   ],
   "source": [
    "# Download zip file\n",
    "!wget 'https://files.consumerfinance.gov/ccdb/complaints.csv.zip'\n",
    "\n",
    "# Unzipping\n",
    "!unzip /content/complaints.csv.zip"
   ]
  },
  {
   "cell_type": "code",
   "execution_count": null,
   "metadata": {
    "colab": {
     "base_uri": "https://localhost:8080/",
     "height": 756
    },
    "executionInfo": {
     "elapsed": 35333,
     "status": "ok",
     "timestamp": 1678336441812,
     "user": {
      "displayName": "Yash Chauhan",
      "userId": "03194567605433747724"
     },
     "user_tz": -330
    },
    "id": "gWxBMX5Q_UOZ",
    "outputId": "c14c651e-c2b2-4765-c5c6-68d7b8066c8a"
   },
   "outputs": [
    {
     "data": {
      "text/html": [
       "\n",
       "  <div id=\"df-0ce72699-ec89-4422-a478-b491755c0b5e\">\n",
       "    <div class=\"colab-df-container\">\n",
       "      <div>\n",
       "<style scoped>\n",
       "    .dataframe tbody tr th:only-of-type {\n",
       "        vertical-align: middle;\n",
       "    }\n",
       "\n",
       "    .dataframe tbody tr th {\n",
       "        vertical-align: top;\n",
       "    }\n",
       "\n",
       "    .dataframe thead th {\n",
       "        text-align: right;\n",
       "    }\n",
       "</style>\n",
       "<table border=\"1\" class=\"dataframe\">\n",
       "  <thead>\n",
       "    <tr style=\"text-align: right;\">\n",
       "      <th></th>\n",
       "      <th>Date received</th>\n",
       "      <th>Product</th>\n",
       "      <th>Sub-product</th>\n",
       "      <th>Issue</th>\n",
       "      <th>Sub-issue</th>\n",
       "      <th>Consumer complaint narrative</th>\n",
       "      <th>Company public response</th>\n",
       "      <th>Company</th>\n",
       "      <th>State</th>\n",
       "      <th>ZIP code</th>\n",
       "      <th>Tags</th>\n",
       "      <th>Consumer consent provided?</th>\n",
       "      <th>Submitted via</th>\n",
       "      <th>Date sent to company</th>\n",
       "      <th>Company response to consumer</th>\n",
       "      <th>Timely response?</th>\n",
       "      <th>Consumer disputed?</th>\n",
       "      <th>Complaint ID</th>\n",
       "    </tr>\n",
       "  </thead>\n",
       "  <tbody>\n",
       "    <tr>\n",
       "      <th>0</th>\n",
       "      <td>2023-03-02</td>\n",
       "      <td>Credit reporting, credit repair services, or o...</td>\n",
       "      <td>Credit reporting</td>\n",
       "      <td>Incorrect information on your report</td>\n",
       "      <td>Information belongs to someone else</td>\n",
       "      <td>NaN</td>\n",
       "      <td>NaN</td>\n",
       "      <td>EQUIFAX, INC.</td>\n",
       "      <td>IL</td>\n",
       "      <td>60449.0</td>\n",
       "      <td>NaN</td>\n",
       "      <td>NaN</td>\n",
       "      <td>Web</td>\n",
       "      <td>2023-03-02</td>\n",
       "      <td>In progress</td>\n",
       "      <td>Yes</td>\n",
       "      <td>NaN</td>\n",
       "      <td>6641624</td>\n",
       "    </tr>\n",
       "    <tr>\n",
       "      <th>1</th>\n",
       "      <td>2023-03-02</td>\n",
       "      <td>Credit reporting, credit repair services, or o...</td>\n",
       "      <td>Credit reporting</td>\n",
       "      <td>Problem with a credit reporting company's inve...</td>\n",
       "      <td>Was not notified of investigation status or re...</td>\n",
       "      <td>NaN</td>\n",
       "      <td>NaN</td>\n",
       "      <td>TRANSUNION INTERMEDIATE HOLDINGS, INC.</td>\n",
       "      <td>IL</td>\n",
       "      <td>60653.0</td>\n",
       "      <td>NaN</td>\n",
       "      <td>NaN</td>\n",
       "      <td>Web</td>\n",
       "      <td>2023-03-02</td>\n",
       "      <td>In progress</td>\n",
       "      <td>Yes</td>\n",
       "      <td>NaN</td>\n",
       "      <td>6638288</td>\n",
       "    </tr>\n",
       "    <tr>\n",
       "      <th>2</th>\n",
       "      <td>2023-03-02</td>\n",
       "      <td>Credit reporting, credit repair services, or o...</td>\n",
       "      <td>Credit reporting</td>\n",
       "      <td>Problem with a credit reporting company's inve...</td>\n",
       "      <td>Their investigation did not fix an error on yo...</td>\n",
       "      <td>NaN</td>\n",
       "      <td>NaN</td>\n",
       "      <td>EQUIFAX, INC.</td>\n",
       "      <td>SC</td>\n",
       "      <td>29483.0</td>\n",
       "      <td>NaN</td>\n",
       "      <td>NaN</td>\n",
       "      <td>Web</td>\n",
       "      <td>2023-03-02</td>\n",
       "      <td>In progress</td>\n",
       "      <td>Yes</td>\n",
       "      <td>NaN</td>\n",
       "      <td>6642000</td>\n",
       "    </tr>\n",
       "    <tr>\n",
       "      <th>3</th>\n",
       "      <td>2023-03-02</td>\n",
       "      <td>Credit reporting, credit repair services, or o...</td>\n",
       "      <td>Credit reporting</td>\n",
       "      <td>Incorrect information on your report</td>\n",
       "      <td>Personal information incorrect</td>\n",
       "      <td>NaN</td>\n",
       "      <td>NaN</td>\n",
       "      <td>EQUIFAX, INC.</td>\n",
       "      <td>FL</td>\n",
       "      <td>33854.0</td>\n",
       "      <td>NaN</td>\n",
       "      <td>NaN</td>\n",
       "      <td>Phone</td>\n",
       "      <td>2023-03-02</td>\n",
       "      <td>In progress</td>\n",
       "      <td>Yes</td>\n",
       "      <td>NaN</td>\n",
       "      <td>6641890</td>\n",
       "    </tr>\n",
       "    <tr>\n",
       "      <th>4</th>\n",
       "      <td>2023-03-02</td>\n",
       "      <td>Credit reporting, credit repair services, or o...</td>\n",
       "      <td>Credit reporting</td>\n",
       "      <td>Problem with a credit reporting company's inve...</td>\n",
       "      <td>Investigation took more than 30 days</td>\n",
       "      <td>NaN</td>\n",
       "      <td>NaN</td>\n",
       "      <td>EQUIFAX, INC.</td>\n",
       "      <td>TX</td>\n",
       "      <td>77584.0</td>\n",
       "      <td>NaN</td>\n",
       "      <td>NaN</td>\n",
       "      <td>Web</td>\n",
       "      <td>2023-03-02</td>\n",
       "      <td>In progress</td>\n",
       "      <td>Yes</td>\n",
       "      <td>NaN</td>\n",
       "      <td>6641970</td>\n",
       "    </tr>\n",
       "  </tbody>\n",
       "</table>\n",
       "</div>\n",
       "      <button class=\"colab-df-convert\" onclick=\"convertToInteractive('df-0ce72699-ec89-4422-a478-b491755c0b5e')\"\n",
       "              title=\"Convert this dataframe to an interactive table.\"\n",
       "              style=\"display:none;\">\n",
       "        \n",
       "  <svg xmlns=\"http://www.w3.org/2000/svg\" height=\"24px\"viewBox=\"0 0 24 24\"\n",
       "       width=\"24px\">\n",
       "    <path d=\"M0 0h24v24H0V0z\" fill=\"none\"/>\n",
       "    <path d=\"M18.56 5.44l.94 2.06.94-2.06 2.06-.94-2.06-.94-.94-2.06-.94 2.06-2.06.94zm-11 1L8.5 8.5l.94-2.06 2.06-.94-2.06-.94L8.5 2.5l-.94 2.06-2.06.94zm10 10l.94 2.06.94-2.06 2.06-.94-2.06-.94-.94-2.06-.94 2.06-2.06.94z\"/><path d=\"M17.41 7.96l-1.37-1.37c-.4-.4-.92-.59-1.43-.59-.52 0-1.04.2-1.43.59L10.3 9.45l-7.72 7.72c-.78.78-.78 2.05 0 2.83L4 21.41c.39.39.9.59 1.41.59.51 0 1.02-.2 1.41-.59l7.78-7.78 2.81-2.81c.8-.78.8-2.07 0-2.86zM5.41 20L4 18.59l7.72-7.72 1.47 1.35L5.41 20z\"/>\n",
       "  </svg>\n",
       "      </button>\n",
       "      \n",
       "  <style>\n",
       "    .colab-df-container {\n",
       "      display:flex;\n",
       "      flex-wrap:wrap;\n",
       "      gap: 12px;\n",
       "    }\n",
       "\n",
       "    .colab-df-convert {\n",
       "      background-color: #E8F0FE;\n",
       "      border: none;\n",
       "      border-radius: 50%;\n",
       "      cursor: pointer;\n",
       "      display: none;\n",
       "      fill: #1967D2;\n",
       "      height: 32px;\n",
       "      padding: 0 0 0 0;\n",
       "      width: 32px;\n",
       "    }\n",
       "\n",
       "    .colab-df-convert:hover {\n",
       "      background-color: #E2EBFA;\n",
       "      box-shadow: 0px 1px 2px rgba(60, 64, 67, 0.3), 0px 1px 3px 1px rgba(60, 64, 67, 0.15);\n",
       "      fill: #174EA6;\n",
       "    }\n",
       "\n",
       "    [theme=dark] .colab-df-convert {\n",
       "      background-color: #3B4455;\n",
       "      fill: #D2E3FC;\n",
       "    }\n",
       "\n",
       "    [theme=dark] .colab-df-convert:hover {\n",
       "      background-color: #434B5C;\n",
       "      box-shadow: 0px 1px 3px 1px rgba(0, 0, 0, 0.15);\n",
       "      filter: drop-shadow(0px 1px 2px rgba(0, 0, 0, 0.3));\n",
       "      fill: #FFFFFF;\n",
       "    }\n",
       "  </style>\n",
       "\n",
       "      <script>\n",
       "        const buttonEl =\n",
       "          document.querySelector('#df-0ce72699-ec89-4422-a478-b491755c0b5e button.colab-df-convert');\n",
       "        buttonEl.style.display =\n",
       "          google.colab.kernel.accessAllowed ? 'block' : 'none';\n",
       "\n",
       "        async function convertToInteractive(key) {\n",
       "          const element = document.querySelector('#df-0ce72699-ec89-4422-a478-b491755c0b5e');\n",
       "          const dataTable =\n",
       "            await google.colab.kernel.invokeFunction('convertToInteractive',\n",
       "                                                     [key], {});\n",
       "          if (!dataTable) return;\n",
       "\n",
       "          const docLinkHtml = 'Like what you see? Visit the ' +\n",
       "            '<a target=\"_blank\" href=https://colab.research.google.com/notebooks/data_table.ipynb>data table notebook</a>'\n",
       "            + ' to learn more about interactive tables.';\n",
       "          element.innerHTML = '';\n",
       "          dataTable['output_type'] = 'display_data';\n",
       "          await google.colab.output.renderOutput(dataTable, element);\n",
       "          const docLink = document.createElement('div');\n",
       "          docLink.innerHTML = docLinkHtml;\n",
       "          element.appendChild(docLink);\n",
       "        }\n",
       "      </script>\n",
       "    </div>\n",
       "  </div>\n",
       "  "
      ],
      "text/plain": [
       "  Date received                                            Product  \\\n",
       "0    2023-03-02  Credit reporting, credit repair services, or o...   \n",
       "1    2023-03-02  Credit reporting, credit repair services, or o...   \n",
       "2    2023-03-02  Credit reporting, credit repair services, or o...   \n",
       "3    2023-03-02  Credit reporting, credit repair services, or o...   \n",
       "4    2023-03-02  Credit reporting, credit repair services, or o...   \n",
       "\n",
       "        Sub-product                                              Issue  \\\n",
       "0  Credit reporting               Incorrect information on your report   \n",
       "1  Credit reporting  Problem with a credit reporting company's inve...   \n",
       "2  Credit reporting  Problem with a credit reporting company's inve...   \n",
       "3  Credit reporting               Incorrect information on your report   \n",
       "4  Credit reporting  Problem with a credit reporting company's inve...   \n",
       "\n",
       "                                           Sub-issue  \\\n",
       "0                Information belongs to someone else   \n",
       "1  Was not notified of investigation status or re...   \n",
       "2  Their investigation did not fix an error on yo...   \n",
       "3                     Personal information incorrect   \n",
       "4               Investigation took more than 30 days   \n",
       "\n",
       "  Consumer complaint narrative Company public response  \\\n",
       "0                          NaN                     NaN   \n",
       "1                          NaN                     NaN   \n",
       "2                          NaN                     NaN   \n",
       "3                          NaN                     NaN   \n",
       "4                          NaN                     NaN   \n",
       "\n",
       "                                  Company State ZIP code Tags  \\\n",
       "0                           EQUIFAX, INC.    IL  60449.0  NaN   \n",
       "1  TRANSUNION INTERMEDIATE HOLDINGS, INC.    IL  60653.0  NaN   \n",
       "2                           EQUIFAX, INC.    SC  29483.0  NaN   \n",
       "3                           EQUIFAX, INC.    FL  33854.0  NaN   \n",
       "4                           EQUIFAX, INC.    TX  77584.0  NaN   \n",
       "\n",
       "  Consumer consent provided? Submitted via Date sent to company  \\\n",
       "0                        NaN           Web           2023-03-02   \n",
       "1                        NaN           Web           2023-03-02   \n",
       "2                        NaN           Web           2023-03-02   \n",
       "3                        NaN         Phone           2023-03-02   \n",
       "4                        NaN           Web           2023-03-02   \n",
       "\n",
       "  Company response to consumer Timely response? Consumer disputed?  \\\n",
       "0                  In progress              Yes                NaN   \n",
       "1                  In progress              Yes                NaN   \n",
       "2                  In progress              Yes                NaN   \n",
       "3                  In progress              Yes                NaN   \n",
       "4                  In progress              Yes                NaN   \n",
       "\n",
       "   Complaint ID  \n",
       "0       6641624  \n",
       "1       6638288  \n",
       "2       6642000  \n",
       "3       6641890  \n",
       "4       6641970  "
      ]
     },
     "execution_count": 7,
     "metadata": {},
     "output_type": "execute_result"
    }
   ],
   "source": [
    "data = pd.read_csv('complaints.csv')\n",
    "data.head()"
   ]
  },
  {
   "cell_type": "markdown",
   "metadata": {
    "id": "qy8RP61JbDA6"
   },
   "source": [
    "### **Data Description**\n",
    "\n"
   ]
  },
  {
   "cell_type": "code",
   "execution_count": null,
   "metadata": {
    "colab": {
     "base_uri": "https://localhost:8080/",
     "height": 80
    },
    "executionInfo": {
     "elapsed": 1341,
     "status": "ok",
     "timestamp": 1585645166490,
     "user": {
      "displayName": "Mukesh Kumar",
      "photoUrl": "https://lh3.googleusercontent.com/a-/AOh14GjlcDlZf8Lr8SWM0ugfq17HC9TF79sbME_lLaRW=s64",
      "userId": "12802686450045644565"
     },
     "user_tz": -330
    },
    "id": "uWYTarYeII7c",
    "outputId": "33b9c53a-1f70-4aa0-aa38-d49c51954d2c"
   },
   "outputs": [
    {
     "data": {
      "text/html": [
       "<div>\n",
       "<style scoped>\n",
       "    .dataframe tbody tr th:only-of-type {\n",
       "        vertical-align: middle;\n",
       "    }\n",
       "\n",
       "    .dataframe tbody tr th {\n",
       "        vertical-align: top;\n",
       "    }\n",
       "\n",
       "    .dataframe thead th {\n",
       "        text-align: right;\n",
       "    }\n",
       "</style>\n",
       "<table border=\"1\" class=\"dataframe\">\n",
       "  <thead>\n",
       "    <tr style=\"text-align: right;\">\n",
       "      <th></th>\n",
       "      <th>count</th>\n",
       "      <th>mean</th>\n",
       "      <th>std</th>\n",
       "      <th>min</th>\n",
       "      <th>25%</th>\n",
       "      <th>50%</th>\n",
       "      <th>75%</th>\n",
       "      <th>max</th>\n",
       "    </tr>\n",
       "  </thead>\n",
       "  <tbody>\n",
       "    <tr>\n",
       "      <th>Complaint ID</th>\n",
       "      <td>1545029.0</td>\n",
       "      <td>2.180434e+06</td>\n",
       "      <td>1.039409e+06</td>\n",
       "      <td>1.0</td>\n",
       "      <td>1344599.0</td>\n",
       "      <td>2470079.0</td>\n",
       "      <td>3062427.0</td>\n",
       "      <td>3586407.0</td>\n",
       "    </tr>\n",
       "  </tbody>\n",
       "</table>\n",
       "</div>"
      ],
      "text/plain": [
       "                  count          mean           std  min        25%  \\\n",
       "Complaint ID  1545029.0  2.180434e+06  1.039409e+06  1.0  1344599.0   \n",
       "\n",
       "                    50%        75%        max  \n",
       "Complaint ID  2470079.0  3062427.0  3586407.0  "
      ]
     },
     "execution_count": 18,
     "metadata": {
      "tags": []
     },
     "output_type": "execute_result"
    }
   ],
   "source": [
    "data.describe().transpose()"
   ]
  },
  {
   "cell_type": "markdown",
   "metadata": {
    "id": "MLHLu0YHbORW"
   },
   "source": [
    "**Observation:**\n",
    "\n",
    "- **majority** of **data** is related to **categories**."
   ]
  },
  {
   "cell_type": "markdown",
   "metadata": {
    "id": "-U85a-C5bl52"
   },
   "source": [
    "### **Data description**\n",
    "\n"
   ]
  },
  {
   "cell_type": "code",
   "execution_count": null,
   "metadata": {
    "colab": {
     "base_uri": "https://localhost:8080/",
     "height": 408
    },
    "executionInfo": {
     "elapsed": 4115,
     "status": "ok",
     "timestamp": 1585645172060,
     "user": {
      "displayName": "Mukesh Kumar",
      "photoUrl": "https://lh3.googleusercontent.com/a-/AOh14GjlcDlZf8Lr8SWM0ugfq17HC9TF79sbME_lLaRW=s64",
      "userId": "12802686450045644565"
     },
     "user_tz": -330
    },
    "id": "NMhoMZPaIHqA",
    "outputId": "1ed9a11d-6ec3-4058-89d4-756873ee2d8a"
   },
   "outputs": [
    {
     "name": "stdout",
     "output_type": "stream",
     "text": [
      "<class 'pandas.core.frame.DataFrame'>\n",
      "RangeIndex: 1545029 entries, 0 to 1545028\n",
      "Data columns (total 18 columns):\n",
      "Date received                   1545029 non-null object\n",
      "Product                         1545029 non-null object\n",
      "Sub-product                     1309864 non-null object\n",
      "Issue                           1545029 non-null object\n",
      "Sub-issue                       982047 non-null object\n",
      "Consumer complaint narrative    510486 non-null object\n",
      "Company public response         585237 non-null object\n",
      "Company                         1545029 non-null object\n",
      "State                           1518866 non-null object\n",
      "ZIP code                        1399014 non-null object\n",
      "Tags                            209629 non-null object\n",
      "Consumer consent provided?      919836 non-null object\n",
      "Submitted via                   1545029 non-null object\n",
      "Date sent to company            1545029 non-null object\n",
      "Company response to consumer    1545028 non-null object\n",
      "Timely response?                1545029 non-null object\n",
      "Consumer disputed?              768478 non-null object\n",
      "Complaint ID                    1545029 non-null int64\n",
      "dtypes: int64(1), object(17)\n",
      "memory usage: 212.2+ MB\n"
     ]
    }
   ],
   "source": [
    "data.info()"
   ]
  },
  {
   "cell_type": "markdown",
   "metadata": {
    "id": "Hu_G3wegIzAy"
   },
   "source": [
    "Some features contain null values, such as Sub-product, Sub-issue, Consumer complaint narrative, Company public response, State, ZIP code, Tags, Consumer consent provided?, Company response to consumer, and Consumer disputed?\n",
    "\n",
    "Some features are classified with incorrect data types, such as Date received and Date sent to company."
   ]
  },
  {
   "cell_type": "markdown",
   "metadata": {
    "id": "G6WDVinuMcte"
   },
   "source": [
    "### **Pre-Profiling Report**"
   ]
  },
  {
   "cell_type": "code",
   "execution_count": null,
   "metadata": {
    "id": "j1H_yjVGMYbp"
   },
   "outputs": [],
   "source": [
    "# Have some patience might take some time\n",
    "profile = ProfileReport(df = data)\n",
    "profile.to_file(outputfile = 'Pre Profiling Report.html')"
   ]
  },
  {
   "cell_type": "markdown",
   "metadata": {
    "id": "x5ddI6YT7sHR"
   },
   "source": [
    "Observation:\n",
    "A total of 20% of the data is missing.\n",
    "\n",
    "The report shows that there are 17 categorical features and 1 numeric feature.\n",
    "\n",
    "Features with high cardinality:\n",
    "\n",
    "[Date received | Sub-product | Issue | Sub-issue | Consumer Complaint Narrative | State | ZIP code | Tags | Date sent to company]\n",
    "\n",
    "Features with missing data:\n",
    "\n",
    "Sub-product → 15.2%\n",
    "\n",
    "Sub-issue → 36.5%\n",
    "\n",
    "Consumer complaint narrative → 67%\n",
    "\n",
    "Company public response → 62.1%\n",
    "\n",
    "State → 1.7%\n",
    "\n",
    "ZIP code → 9.4%\n",
    "\n",
    "Tags → 86.4%\n",
    "\n",
    "Consumer consent provided? → 40.5%\n",
    "\n",
    "Consumer disputed? → 50.2%\n",
    "\n",
    "Since there is only one numeric feature, it is not possible to derive correlations or associations between features.\n",
    "\n"
   ]
  },
  {
   "cell_type": "markdown",
   "metadata": {
    "id": "3B-d6T6Hi8rU"
   },
   "source": [
    "<a id = Section5></a>\n",
    "# **5. Data Pre-Processing**"
   ]
  },
  {
   "cell_type": "markdown",
   "metadata": {
    "id": "-I25P22IjBvT"
   },
   "source": [
    "### **Identification & Handling of Inconsistent Data Types**: \n",
    "\n"
   ]
  },
  {
   "cell_type": "markdown",
   "metadata": {
    "id": "Lpkn-IsNB0tq"
   },
   "source": [
    "**Before changes: Respective Data types per Feature**"
   ]
  },
  {
   "cell_type": "code",
   "execution_count": null,
   "metadata": {
    "colab": {
     "base_uri": "https://localhost:8080/",
     "height": 151
    },
    "executionInfo": {
     "elapsed": 3614,
     "status": "ok",
     "timestamp": 1585645249912,
     "user": {
      "displayName": "Mukesh Kumar",
      "photoUrl": "https://lh3.googleusercontent.com/a-/AOh14GjlcDlZf8Lr8SWM0ugfq17HC9TF79sbME_lLaRW=s64",
      "userId": "12802686450045644565"
     },
     "user_tz": -330
    },
    "id": "brQx2doBB2Cn",
    "outputId": "7c9a7fcf-0a61-494e-a63a-3e4bd76a9d84"
   },
   "outputs": [
    {
     "data": {
      "text/html": [
       "<div>\n",
       "<style scoped>\n",
       "    .dataframe tbody tr th:only-of-type {\n",
       "        vertical-align: middle;\n",
       "    }\n",
       "\n",
       "    .dataframe tbody tr th {\n",
       "        vertical-align: top;\n",
       "    }\n",
       "\n",
       "    .dataframe thead th {\n",
       "        text-align: right;\n",
       "    }\n",
       "</style>\n",
       "<table border=\"1\" class=\"dataframe\">\n",
       "  <thead>\n",
       "    <tr style=\"text-align: right;\">\n",
       "      <th></th>\n",
       "      <th>Date received</th>\n",
       "      <th>Product</th>\n",
       "      <th>Sub-product</th>\n",
       "      <th>Issue</th>\n",
       "      <th>Sub-issue</th>\n",
       "      <th>Consumer complaint narrative</th>\n",
       "      <th>Company public response</th>\n",
       "      <th>Company</th>\n",
       "      <th>State</th>\n",
       "      <th>ZIP code</th>\n",
       "      <th>Tags</th>\n",
       "      <th>Consumer consent provided?</th>\n",
       "      <th>Submitted via</th>\n",
       "      <th>Date sent to company</th>\n",
       "      <th>Company response to consumer</th>\n",
       "      <th>Timely response?</th>\n",
       "      <th>Consumer disputed?</th>\n",
       "      <th>Complaint ID</th>\n",
       "    </tr>\n",
       "  </thead>\n",
       "  <tbody>\n",
       "    <tr>\n",
       "      <th>Type</th>\n",
       "      <td>object</td>\n",
       "      <td>object</td>\n",
       "      <td>object</td>\n",
       "      <td>object</td>\n",
       "      <td>object</td>\n",
       "      <td>object</td>\n",
       "      <td>object</td>\n",
       "      <td>object</td>\n",
       "      <td>object</td>\n",
       "      <td>object</td>\n",
       "      <td>object</td>\n",
       "      <td>object</td>\n",
       "      <td>object</td>\n",
       "      <td>object</td>\n",
       "      <td>object</td>\n",
       "      <td>object</td>\n",
       "      <td>object</td>\n",
       "      <td>int64</td>\n",
       "    </tr>\n",
       "  </tbody>\n",
       "</table>\n",
       "</div>"
      ],
      "text/plain": [
       "     Date received Product Sub-product   Issue Sub-issue  \\\n",
       "Type        object  object      object  object    object   \n",
       "\n",
       "     Consumer complaint narrative Company public response Company   State  \\\n",
       "Type                       object                  object  object  object   \n",
       "\n",
       "     ZIP code    Tags Consumer consent provided? Submitted via  \\\n",
       "Type   object  object                     object        object   \n",
       "\n",
       "     Date sent to company Company response to consumer Timely response?  \\\n",
       "Type               object                       object           object   \n",
       "\n",
       "     Consumer disputed? Complaint ID  \n",
       "Type             object        int64  "
      ]
     },
     "execution_count": 23,
     "metadata": {
      "tags": []
     },
     "output_type": "execute_result"
    }
   ],
   "source": [
    "type_frame = pd.DataFrame(data = data.dtypes, columns = ['Type'])\n",
    "type_frame.transpose()"
   ]
  },
  {
   "cell_type": "markdown",
   "metadata": {
    "id": "mLt-RjOdCIEf"
   },
   "source": [
    "**Performing Correction**"
   ]
  },
  {
   "cell_type": "code",
   "execution_count": null,
   "metadata": {
    "id": "G4eQpNMcKeAE"
   },
   "outputs": [],
   "source": [
    "data['Date received'] = pd.to_datetime(data['Date received'])\n",
    "data['Date sent to company'] = pd.to_datetime(data['Date sent to company'])"
   ]
  },
  {
   "cell_type": "markdown",
   "metadata": {
    "id": "AaIsDExTCQLR"
   },
   "source": [
    "**After changes: Respective Data types per Feature**"
   ]
  },
  {
   "cell_type": "code",
   "execution_count": null,
   "metadata": {
    "colab": {
     "base_uri": "https://localhost:8080/",
     "height": 151
    },
    "executionInfo": {
     "elapsed": 2680,
     "status": "ok",
     "timestamp": 1585645259389,
     "user": {
      "displayName": "Mukesh Kumar",
      "photoUrl": "https://lh3.googleusercontent.com/a-/AOh14GjlcDlZf8Lr8SWM0ugfq17HC9TF79sbME_lLaRW=s64",
      "userId": "12802686450045644565"
     },
     "user_tz": -330
    },
    "id": "0_UaD9raCOP2",
    "outputId": "0947f66b-961b-4d97-c168-b0d7321571df"
   },
   "outputs": [
    {
     "data": {
      "text/html": [
       "<div>\n",
       "<style scoped>\n",
       "    .dataframe tbody tr th:only-of-type {\n",
       "        vertical-align: middle;\n",
       "    }\n",
       "\n",
       "    .dataframe tbody tr th {\n",
       "        vertical-align: top;\n",
       "    }\n",
       "\n",
       "    .dataframe thead th {\n",
       "        text-align: right;\n",
       "    }\n",
       "</style>\n",
       "<table border=\"1\" class=\"dataframe\">\n",
       "  <thead>\n",
       "    <tr style=\"text-align: right;\">\n",
       "      <th></th>\n",
       "      <th>Date received</th>\n",
       "      <th>Product</th>\n",
       "      <th>Sub-product</th>\n",
       "      <th>Issue</th>\n",
       "      <th>Sub-issue</th>\n",
       "      <th>Consumer complaint narrative</th>\n",
       "      <th>Company public response</th>\n",
       "      <th>Company</th>\n",
       "      <th>State</th>\n",
       "      <th>ZIP code</th>\n",
       "      <th>Tags</th>\n",
       "      <th>Consumer consent provided?</th>\n",
       "      <th>Submitted via</th>\n",
       "      <th>Date sent to company</th>\n",
       "      <th>Company response to consumer</th>\n",
       "      <th>Timely response?</th>\n",
       "      <th>Consumer disputed?</th>\n",
       "      <th>Complaint ID</th>\n",
       "    </tr>\n",
       "  </thead>\n",
       "  <tbody>\n",
       "    <tr>\n",
       "      <th>Type</th>\n",
       "      <td>datetime64[ns]</td>\n",
       "      <td>object</td>\n",
       "      <td>object</td>\n",
       "      <td>object</td>\n",
       "      <td>object</td>\n",
       "      <td>object</td>\n",
       "      <td>object</td>\n",
       "      <td>object</td>\n",
       "      <td>object</td>\n",
       "      <td>object</td>\n",
       "      <td>object</td>\n",
       "      <td>object</td>\n",
       "      <td>object</td>\n",
       "      <td>datetime64[ns]</td>\n",
       "      <td>object</td>\n",
       "      <td>object</td>\n",
       "      <td>object</td>\n",
       "      <td>int64</td>\n",
       "    </tr>\n",
       "  </tbody>\n",
       "</table>\n",
       "</div>"
      ],
      "text/plain": [
       "       Date received Product Sub-product   Issue Sub-issue  \\\n",
       "Type  datetime64[ns]  object      object  object    object   \n",
       "\n",
       "     Consumer complaint narrative Company public response Company   State  \\\n",
       "Type                       object                  object  object  object   \n",
       "\n",
       "     ZIP code    Tags Consumer consent provided? Submitted via  \\\n",
       "Type   object  object                     object        object   \n",
       "\n",
       "     Date sent to company Company response to consumer Timely response?  \\\n",
       "Type       datetime64[ns]                       object           object   \n",
       "\n",
       "     Consumer disputed? Complaint ID  \n",
       "Type             object        int64  "
      ]
     },
     "execution_count": 25,
     "metadata": {
      "tags": []
     },
     "output_type": "execute_result"
    }
   ],
   "source": [
    "type_frame = pd.DataFrame(data = data.dtypes, columns = ['Type'])\n",
    "type_frame.transpose()"
   ]
  },
  {
   "cell_type": "markdown",
   "metadata": {
    "id": "54RFubs_lKNm"
   },
   "source": [
    "### **Identification & Handling of Missing Data**"
   ]
  },
  {
   "cell_type": "code",
   "execution_count": null,
   "metadata": {
    "colab": {
     "base_uri": "https://localhost:8080/",
     "height": 233
    },
    "executionInfo": {
     "elapsed": 3545,
     "status": "ok",
     "timestamp": 1585645271869,
     "user": {
      "displayName": "Mukesh Kumar",
      "photoUrl": "https://lh3.googleusercontent.com/a-/AOh14GjlcDlZf8Lr8SWM0ugfq17HC9TF79sbME_lLaRW=s64",
      "userId": "12802686450045644565"
     },
     "user_tz": -330
    },
    "id": "zzzmbLERR8lj",
    "outputId": "5d1ba223-86df-4c61-a699-9665d2ddf3fe"
   },
   "outputs": [
    {
     "name": "stdout",
     "output_type": "stream",
     "text": [
      "Data Shape: (1545029, 18)\n"
     ]
    },
    {
     "data": {
      "text/html": [
       "<div>\n",
       "<style scoped>\n",
       "    .dataframe tbody tr th:only-of-type {\n",
       "        vertical-align: middle;\n",
       "    }\n",
       "\n",
       "    .dataframe tbody tr th {\n",
       "        vertical-align: top;\n",
       "    }\n",
       "\n",
       "    .dataframe thead th {\n",
       "        text-align: right;\n",
       "    }\n",
       "</style>\n",
       "<table border=\"1\" class=\"dataframe\">\n",
       "  <thead>\n",
       "    <tr style=\"text-align: right;\">\n",
       "      <th>Features</th>\n",
       "      <th>Date received</th>\n",
       "      <th>Product</th>\n",
       "      <th>Sub-product</th>\n",
       "      <th>Issue</th>\n",
       "      <th>Sub-issue</th>\n",
       "      <th>Consumer complaint narrative</th>\n",
       "      <th>Company public response</th>\n",
       "      <th>Company</th>\n",
       "      <th>State</th>\n",
       "      <th>ZIP code</th>\n",
       "      <th>Tags</th>\n",
       "      <th>Consumer consent provided?</th>\n",
       "      <th>Submitted via</th>\n",
       "      <th>Date sent to company</th>\n",
       "      <th>Company response to consumer</th>\n",
       "      <th>Timely response?</th>\n",
       "      <th>Consumer disputed?</th>\n",
       "      <th>Complaint ID</th>\n",
       "    </tr>\n",
       "  </thead>\n",
       "  <tbody>\n",
       "    <tr>\n",
       "      <th>Null Frequency</th>\n",
       "      <td>0.0</td>\n",
       "      <td>0.0</td>\n",
       "      <td>235165.00</td>\n",
       "      <td>0.0</td>\n",
       "      <td>562982.00</td>\n",
       "      <td>1034543.00</td>\n",
       "      <td>959792.00</td>\n",
       "      <td>0.0</td>\n",
       "      <td>26163.00</td>\n",
       "      <td>146015.00</td>\n",
       "      <td>1335400.00</td>\n",
       "      <td>625193.00</td>\n",
       "      <td>0.0</td>\n",
       "      <td>0.0</td>\n",
       "      <td>1.0</td>\n",
       "      <td>0.0</td>\n",
       "      <td>776551.00</td>\n",
       "      <td>0.0</td>\n",
       "    </tr>\n",
       "    <tr>\n",
       "      <th>Missing %age</th>\n",
       "      <td>0.0</td>\n",
       "      <td>0.0</td>\n",
       "      <td>15.22</td>\n",
       "      <td>0.0</td>\n",
       "      <td>36.44</td>\n",
       "      <td>66.96</td>\n",
       "      <td>62.12</td>\n",
       "      <td>0.0</td>\n",
       "      <td>1.69</td>\n",
       "      <td>9.45</td>\n",
       "      <td>86.43</td>\n",
       "      <td>40.46</td>\n",
       "      <td>0.0</td>\n",
       "      <td>0.0</td>\n",
       "      <td>0.0</td>\n",
       "      <td>0.0</td>\n",
       "      <td>50.26</td>\n",
       "      <td>0.0</td>\n",
       "    </tr>\n",
       "  </tbody>\n",
       "</table>\n",
       "</div>"
      ],
      "text/plain": [
       "Features        Date received  Product  Sub-product  Issue  Sub-issue  \\\n",
       "Null Frequency            0.0      0.0    235165.00    0.0  562982.00   \n",
       "Missing %age              0.0      0.0        15.22    0.0      36.44   \n",
       "\n",
       "Features        Consumer complaint narrative  Company public response  \\\n",
       "Null Frequency                    1034543.00                959792.00   \n",
       "Missing %age                           66.96                    62.12   \n",
       "\n",
       "Features        Company     State   ZIP code        Tags  \\\n",
       "Null Frequency      0.0  26163.00  146015.00  1335400.00   \n",
       "Missing %age        0.0      1.69       9.45       86.43   \n",
       "\n",
       "Features        Consumer consent provided?  Submitted via  \\\n",
       "Null Frequency                   625193.00            0.0   \n",
       "Missing %age                         40.46            0.0   \n",
       "\n",
       "Features        Date sent to company  Company response to consumer  \\\n",
       "Null Frequency                   0.0                           1.0   \n",
       "Missing %age                     0.0                           0.0   \n",
       "\n",
       "Features        Timely response?  Consumer disputed?  Complaint ID  \n",
       "Null Frequency               0.0           776551.00           0.0  \n",
       "Missing %age                 0.0               50.26           0.0  "
      ]
     },
     "execution_count": 26,
     "metadata": {
      "tags": []
     },
     "output_type": "execute_result"
    }
   ],
   "source": [
    "print('Data Shape:', data.shape)\n",
    "null_frame = pd.DataFrame()\n",
    "null_frame['Features'] = data.columns.values\n",
    "null_frame['Null Frequency'] = data.isnull().sum().values\n",
    "null_frame['Missing %age'] = np.round(null_frame['Null Frequency']/data.shape[0], decimals = 4) * 100\n",
    "null_frame.set_index('Features', inplace = True)\n",
    "null_frame.transpose()"
   ]
  },
  {
   "cell_type": "markdown",
   "metadata": {
    "id": "VmdlHxZeG4--"
   },
   "source": [
    "Consumer complaint narrative contains around 67% missing data. We will drop records with null values since it is a potential predictor.\n",
    "\n",
    "Tags contains around 86% missing data. We will drop this feature.\n",
    "\n",
    "Sub-product contains 15.2% missing data. We will replace missing values with the mode.\n",
    "\n",
    "Sub-issue contains 36.4% missing data. We will replace missing values with the mode.\n",
    "\n",
    "Company public response contains 62% missing data. We will replace missing values with a 'None' label.\n",
    "\n",
    "State contains 1.7% missing data. We will drop these records.\n",
    "\n",
    "ZIP code contains 9.45% missing data. We will replace missing values with the mode.\n",
    "\n",
    "Consumer consent provided? contains 40% missing data. However, since records with missing Consumer complaint narrative will be dropped, the corresponding values here will also be removed. Therefore, we will leave this feature as it is.\n",
    "\n",
    "Consumer disputed? contains 50% missing data. Although we could drop this feature, we will replace missing values with an 'NA' label for analysis purposes. This feature may be dropped at a later stage.\n",
    "\n"
   ]
  },
  {
   "cell_type": "markdown",
   "metadata": {
    "id": "YGfOWlLqJfn2"
   },
   "source": [
    "The dataset has been filtered to include only records with a Consumer Complaint Narrative, as this feature is a key predictor for classifying product categories. The amount of data removed during this filtering process is also presented."
   ]
  },
  {
   "cell_type": "code",
   "execution_count": null,
   "metadata": {
    "colab": {
     "base_uri": "https://localhost:8080/",
     "height": 85
    },
    "executionInfo": {
     "elapsed": 3131,
     "status": "ok",
     "timestamp": 1585645280169,
     "user": {
      "displayName": "Mukesh Kumar",
      "photoUrl": "https://lh3.googleusercontent.com/a-/AOh14GjlcDlZf8Lr8SWM0ugfq17HC9TF79sbME_lLaRW=s64",
      "userId": "12802686450045644565"
     },
     "user_tz": -330
    },
    "id": "DNNqs_L3oJBF",
    "outputId": "1e6cbd8e-a1c2-46aa-d2f4-7f783f766cee"
   },
   "outputs": [
    {
     "name": "stdout",
     "output_type": "stream",
     "text": [
      "Data Shape [Before]: (1545029, 18)\n",
      "Data Shape [After]: (510486, 18)\n",
      "Total Dropped Records: 1034543\n",
      "Dropped %age: 67.0\n"
     ]
    }
   ],
   "source": [
    "# Chossing data containing only complaints\n",
    "before_shape = data.shape\n",
    "print('Data Shape [Before]:', before_shape)\n",
    "\n",
    "data = data[pd.notnull(data['Consumer complaint narrative'])]\n",
    "\n",
    "after_shape = data.shape\n",
    "print('Data Shape [After]:', data.shape)\n",
    "print('Total Dropped Records:', before_shape[0]-after_shape[0])\n",
    "print('Dropped %age:', np.round(((before_shape[0] - after_shape[0])/ before_shape[0]), decimals = 3)*100)"
   ]
  },
  {
   "cell_type": "code",
   "execution_count": null,
   "metadata": {
    "colab": {
     "base_uri": "https://localhost:8080/",
     "height": 216
    },
    "executionInfo": {
     "elapsed": 2295,
     "status": "ok",
     "timestamp": 1585645286143,
     "user": {
      "displayName": "Mukesh Kumar",
      "photoUrl": "https://lh3.googleusercontent.com/a-/AOh14GjlcDlZf8Lr8SWM0ugfq17HC9TF79sbME_lLaRW=s64",
      "userId": "12802686450045644565"
     },
     "user_tz": -330
    },
    "id": "rsUBc10oIuZI",
    "outputId": "a910f254-a5ad-4df5-b959-3fa841e1301c"
   },
   "outputs": [
    {
     "data": {
      "text/html": [
       "<div>\n",
       "<style scoped>\n",
       "    .dataframe tbody tr th:only-of-type {\n",
       "        vertical-align: middle;\n",
       "    }\n",
       "\n",
       "    .dataframe tbody tr th {\n",
       "        vertical-align: top;\n",
       "    }\n",
       "\n",
       "    .dataframe thead th {\n",
       "        text-align: right;\n",
       "    }\n",
       "</style>\n",
       "<table border=\"1\" class=\"dataframe\">\n",
       "  <thead>\n",
       "    <tr style=\"text-align: right;\">\n",
       "      <th>Features</th>\n",
       "      <th>Date received</th>\n",
       "      <th>Product</th>\n",
       "      <th>Sub-product</th>\n",
       "      <th>Issue</th>\n",
       "      <th>Sub-issue</th>\n",
       "      <th>Consumer complaint narrative</th>\n",
       "      <th>Company public response</th>\n",
       "      <th>Company</th>\n",
       "      <th>State</th>\n",
       "      <th>ZIP code</th>\n",
       "      <th>Tags</th>\n",
       "      <th>Consumer consent provided?</th>\n",
       "      <th>Submitted via</th>\n",
       "      <th>Date sent to company</th>\n",
       "      <th>Company response to consumer</th>\n",
       "      <th>Timely response?</th>\n",
       "      <th>Consumer disputed?</th>\n",
       "      <th>Complaint ID</th>\n",
       "    </tr>\n",
       "  </thead>\n",
       "  <tbody>\n",
       "    <tr>\n",
       "      <th>Null Frequency</th>\n",
       "      <td>0.0</td>\n",
       "      <td>0.0</td>\n",
       "      <td>52172.00</td>\n",
       "      <td>0.0</td>\n",
       "      <td>130371.00</td>\n",
       "      <td>0.0</td>\n",
       "      <td>261107.00</td>\n",
       "      <td>0.0</td>\n",
       "      <td>1966.00</td>\n",
       "      <td>114574.00</td>\n",
       "      <td>423240.00</td>\n",
       "      <td>0.0</td>\n",
       "      <td>0.0</td>\n",
       "      <td>0.0</td>\n",
       "      <td>1.0</td>\n",
       "      <td>0.0</td>\n",
       "      <td>346419.00</td>\n",
       "      <td>0.0</td>\n",
       "    </tr>\n",
       "    <tr>\n",
       "      <th>Missing %age</th>\n",
       "      <td>0.0</td>\n",
       "      <td>0.0</td>\n",
       "      <td>10.22</td>\n",
       "      <td>0.0</td>\n",
       "      <td>25.54</td>\n",
       "      <td>0.0</td>\n",
       "      <td>51.15</td>\n",
       "      <td>0.0</td>\n",
       "      <td>0.39</td>\n",
       "      <td>22.44</td>\n",
       "      <td>82.91</td>\n",
       "      <td>0.0</td>\n",
       "      <td>0.0</td>\n",
       "      <td>0.0</td>\n",
       "      <td>0.0</td>\n",
       "      <td>0.0</td>\n",
       "      <td>67.86</td>\n",
       "      <td>0.0</td>\n",
       "    </tr>\n",
       "  </tbody>\n",
       "</table>\n",
       "</div>"
      ],
      "text/plain": [
       "Features        Date received  Product  Sub-product  Issue  Sub-issue  \\\n",
       "Null Frequency            0.0      0.0     52172.00    0.0  130371.00   \n",
       "Missing %age              0.0      0.0        10.22    0.0      25.54   \n",
       "\n",
       "Features        Consumer complaint narrative  Company public response  \\\n",
       "Null Frequency                           0.0                261107.00   \n",
       "Missing %age                             0.0                    51.15   \n",
       "\n",
       "Features        Company    State   ZIP code       Tags  \\\n",
       "Null Frequency      0.0  1966.00  114574.00  423240.00   \n",
       "Missing %age        0.0     0.39      22.44      82.91   \n",
       "\n",
       "Features        Consumer consent provided?  Submitted via  \\\n",
       "Null Frequency                         0.0            0.0   \n",
       "Missing %age                           0.0            0.0   \n",
       "\n",
       "Features        Date sent to company  Company response to consumer  \\\n",
       "Null Frequency                   0.0                           1.0   \n",
       "Missing %age                     0.0                           0.0   \n",
       "\n",
       "Features        Timely response?  Consumer disputed?  Complaint ID  \n",
       "Null Frequency               0.0           346419.00           0.0  \n",
       "Missing %age                 0.0               67.86           0.0  "
      ]
     },
     "execution_count": 28,
     "metadata": {
      "tags": []
     },
     "output_type": "execute_result"
    }
   ],
   "source": [
    "# Analyzing again the missing percentage left\n",
    "null_frame = pd.DataFrame()\n",
    "null_frame['Features'] = data.columns.values\n",
    "null_frame['Null Frequency'] = data.isnull().sum().values\n",
    "null_frame['Missing %age'] = np.round(null_frame['Null Frequency']/data.shape[0], decimals = 4) * 100\n",
    "null_frame.set_index('Features', inplace = True)\n",
    "null_frame.transpose()"
   ]
  },
  {
   "cell_type": "markdown",
   "metadata": {
    "id": "LCoX2vkDKE72"
   },
   "source": [
    "handling missing data using **central tendency measure** _ Mean/ Median / Mode."
   ]
  },
  {
   "cell_type": "code",
   "execution_count": null,
   "metadata": {
    "id": "m4P1Xdjvo8kX"
   },
   "outputs": [],
   "source": [
    "# Replacing categorcial data with mode value\n",
    "data['Sub-product'] = data['Sub-product'].replace(np.nan, data['Sub-product'].mode()[0])\n",
    "\n",
    "data['Sub-issue'] = data['Sub-issue'].replace(np.nan, data['Sub-issue'].mode()[0])\n",
    "\n",
    "data['ZIP code'] = data['ZIP code'].replace(np.nan, data['ZIP code'].mode()[0])\n",
    "\n",
    "# Replacing missing data with label\n",
    "data['Company public response'] = data['Company public response'].replace(np.nan, 'None')\n",
    "\n",
    "data['Consumer disputed?'] = data['Consumer disputed?'].replace(np.nan, 'NA')\n",
    "\n",
    "# Dropping data\n",
    "data.dropna(subset = ['State'], inplace = True)\n",
    "\n",
    "data.drop(labels = ['Tags', 'Complaint ID'], axis = 1, inplace = True)"
   ]
  },
  {
   "cell_type": "markdown",
   "metadata": {
    "id": "DsptcjnDKYpb"
   },
   "source": [
    "visualizing missing data."
   ]
  },
  {
   "cell_type": "code",
   "execution_count": null,
   "metadata": {
    "colab": {
     "base_uri": "https://localhost:8080/",
     "height": 213
    },
    "executionInfo": {
     "elapsed": 1616,
     "status": "ok",
     "timestamp": 1585645295700,
     "user": {
      "displayName": "Mukesh Kumar",
      "photoUrl": "https://lh3.googleusercontent.com/a-/AOh14GjlcDlZf8Lr8SWM0ugfq17HC9TF79sbME_lLaRW=s64",
      "userId": "12802686450045644565"
     },
     "user_tz": -330
    },
    "id": "eMSToMGHXXsd",
    "outputId": "e5c9dfa4-36b3-4396-f21d-7a5dafa8d51f"
   },
   "outputs": [
    {
     "name": "stdout",
     "output_type": "stream",
     "text": [
      "Data Shape: (508520, 16)\n"
     ]
    },
    {
     "data": {
      "text/html": [
       "<div>\n",
       "<style scoped>\n",
       "    .dataframe tbody tr th:only-of-type {\n",
       "        vertical-align: middle;\n",
       "    }\n",
       "\n",
       "    .dataframe tbody tr th {\n",
       "        vertical-align: top;\n",
       "    }\n",
       "\n",
       "    .dataframe thead th {\n",
       "        text-align: right;\n",
       "    }\n",
       "</style>\n",
       "<table border=\"1\" class=\"dataframe\">\n",
       "  <thead>\n",
       "    <tr style=\"text-align: right;\">\n",
       "      <th>Features</th>\n",
       "      <th>Date received</th>\n",
       "      <th>Product</th>\n",
       "      <th>Sub-product</th>\n",
       "      <th>Issue</th>\n",
       "      <th>Sub-issue</th>\n",
       "      <th>Consumer complaint narrative</th>\n",
       "      <th>Company public response</th>\n",
       "      <th>Company</th>\n",
       "      <th>State</th>\n",
       "      <th>ZIP code</th>\n",
       "      <th>Consumer consent provided?</th>\n",
       "      <th>Submitted via</th>\n",
       "      <th>Date sent to company</th>\n",
       "      <th>Company response to consumer</th>\n",
       "      <th>Timely response?</th>\n",
       "      <th>Consumer disputed?</th>\n",
       "    </tr>\n",
       "  </thead>\n",
       "  <tbody>\n",
       "    <tr>\n",
       "      <th>Null Frequency</th>\n",
       "      <td>0.0</td>\n",
       "      <td>0.0</td>\n",
       "      <td>0.0</td>\n",
       "      <td>0.0</td>\n",
       "      <td>0.0</td>\n",
       "      <td>0.0</td>\n",
       "      <td>0.0</td>\n",
       "      <td>0.0</td>\n",
       "      <td>0.0</td>\n",
       "      <td>0.0</td>\n",
       "      <td>0.0</td>\n",
       "      <td>0.0</td>\n",
       "      <td>0.0</td>\n",
       "      <td>1.0</td>\n",
       "      <td>0.0</td>\n",
       "      <td>0.0</td>\n",
       "    </tr>\n",
       "    <tr>\n",
       "      <th>Missing %age</th>\n",
       "      <td>0.0</td>\n",
       "      <td>0.0</td>\n",
       "      <td>0.0</td>\n",
       "      <td>0.0</td>\n",
       "      <td>0.0</td>\n",
       "      <td>0.0</td>\n",
       "      <td>0.0</td>\n",
       "      <td>0.0</td>\n",
       "      <td>0.0</td>\n",
       "      <td>0.0</td>\n",
       "      <td>0.0</td>\n",
       "      <td>0.0</td>\n",
       "      <td>0.0</td>\n",
       "      <td>0.0</td>\n",
       "      <td>0.0</td>\n",
       "      <td>0.0</td>\n",
       "    </tr>\n",
       "  </tbody>\n",
       "</table>\n",
       "</div>"
      ],
      "text/plain": [
       "Features        Date received  Product  Sub-product  Issue  Sub-issue  \\\n",
       "Null Frequency            0.0      0.0          0.0    0.0        0.0   \n",
       "Missing %age              0.0      0.0          0.0    0.0        0.0   \n",
       "\n",
       "Features        Consumer complaint narrative  Company public response  \\\n",
       "Null Frequency                           0.0                      0.0   \n",
       "Missing %age                             0.0                      0.0   \n",
       "\n",
       "Features        Company  State  ZIP code  Consumer consent provided?  \\\n",
       "Null Frequency      0.0    0.0       0.0                         0.0   \n",
       "Missing %age        0.0    0.0       0.0                         0.0   \n",
       "\n",
       "Features        Submitted via  Date sent to company  \\\n",
       "Null Frequency            0.0                   0.0   \n",
       "Missing %age              0.0                   0.0   \n",
       "\n",
       "Features        Company response to consumer  Timely response?  \\\n",
       "Null Frequency                           1.0               0.0   \n",
       "Missing %age                             0.0               0.0   \n",
       "\n",
       "Features        Consumer disputed?  \n",
       "Null Frequency                 0.0  \n",
       "Missing %age                   0.0  "
      ]
     },
     "execution_count": 30,
     "metadata": {
      "tags": []
     },
     "output_type": "execute_result"
    }
   ],
   "source": [
    "# Analyzing again the missing percentage left\n",
    "print('Data Shape:', data.shape)\n",
    "null_frame = pd.DataFrame()\n",
    "null_frame['Features'] = data.columns.values\n",
    "null_frame['Null Frequency'] = data.isnull().sum().values\n",
    "null_frame['Missing %age'] = np.round(null_frame['Null Frequency']/data.shape[0], decimals = 4) * 100\n",
    "null_frame.set_index('Features', inplace = True)\n",
    "null_frame.transpose()"
   ]
  },
  {
   "cell_type": "markdown",
   "metadata": {
    "id": "0LQzH4ZEnBNt"
   },
   "source": [
    "### **Identification & Handling of Duplicate Rows**\n",
    "\n",
    "."
   ]
  },
  {
   "cell_type": "code",
   "execution_count": null,
   "metadata": {
    "colab": {
     "base_uri": "https://localhost:8080/",
     "height": 119
    },
    "executionInfo": {
     "elapsed": 6092,
     "status": "ok",
     "timestamp": 1585645306306,
     "user": {
      "displayName": "Mukesh Kumar",
      "photoUrl": "https://lh3.googleusercontent.com/a-/AOh14GjlcDlZf8Lr8SWM0ugfq17HC9TF79sbME_lLaRW=s64",
      "userId": "12802686450045644565"
     },
     "user_tz": -330
    },
    "id": "3guJzlfAm6TL",
    "outputId": "a4cd277a-37a1-4045-8cb6-4879a5063425"
   },
   "outputs": [
    {
     "name": "stdout",
     "output_type": "stream",
     "text": [
      "Contains Duplicate Rows? (Original data) True\n",
      "Data Shape [Before]: (508520, 16)\n",
      "Drop Success!\n",
      "Data Shape [After]: (507049, 16)\n",
      "Total Dropped Records: 1471\n",
      "Dropped %age: 0.3\n"
     ]
    }
   ],
   "source": [
    "print('Contains Duplicate Rows? (Original data)', data.duplicated().any())\n",
    "before_shape = data.shape\n",
    "print('Data Shape [Before]:', before_shape)\n",
    "data = data.drop_duplicates()\n",
    "print('Drop Success!')\n",
    "after_shape = data.shape\n",
    "print('Data Shape [After]:', after_shape)\n",
    "\n",
    "print('Total Dropped Records:', before_shape[0]-after_shape[0])\n",
    "print('Dropped %age:', np.round(((before_shape[0] - after_shape[0])/ before_shape[0]), decimals = 3)*100)"
   ]
  },
  {
   "cell_type": "markdown",
   "metadata": {
    "id": "cMjuc-r5M2s6"
   },
   "source": [
    "**Observation:**\n",
    "\n",
    "Some records contain duplicates, with a total count of 1,470.\n",
    "\n",
    "These duplicate records have been dropped to ensure the integrity of the analysis.\n",
    "\n"
   ]
  },
  {
   "cell_type": "markdown",
   "metadata": {
    "id": "9_4yOSZKpC-o"
   },
   "source": [
    "### **Identification & Handling of Duplicate Columns**\n",
    "\n"
   ]
  },
  {
   "cell_type": "code",
   "execution_count": null,
   "metadata": {
    "colab": {
     "base_uri": "https://localhost:8080/",
     "height": 34
    },
    "executionInfo": {
     "elapsed": 5071,
     "status": "ok",
     "timestamp": 1585645318225,
     "user": {
      "displayName": "Mukesh Kumar",
      "photoUrl": "https://lh3.googleusercontent.com/a-/AOh14GjlcDlZf8Lr8SWM0ugfq17HC9TF79sbME_lLaRW=s64",
      "userId": "12802686450045644565"
     },
     "user_tz": -330
    },
    "id": "UQ6_cHx4nDfg",
    "outputId": "49ec9901-1cc5-4ed4-ed7c-bca7739955f9"
   },
   "outputs": [
    {
     "name": "stdout",
     "output_type": "stream",
     "text": [
      "No Duplicate Columns\n"
     ]
    }
   ],
   "source": [
    "def duplicateCols(dataframe):\n",
    "  '''Get a list of Duplicate valued Columns'''\n",
    "  names = set()\n",
    "  for i in range(dataframe.shape[1]):\n",
    "    col1 = dataframe.iloc[:, i]\n",
    "    for j in range(i+1, dataframe.shape[1]):\n",
    "      col2 = dataframe.iloc[:, j]\n",
    "      if col1.equals(col2):\n",
    "        names.add(dataframe.columns.values[j])\n",
    "\n",
    "  if (len(names) == 0):\n",
    "    return None\n",
    "  else:\n",
    "    return list(names)\n",
    "\n",
    "is_duplicate_cols = duplicateCols(data)\n",
    "if (is_duplicate_cols is None):\n",
    "  print('No Duplicate Columns')\n",
    "else:\n",
    "  print('Contains Duplicate Columns', is_duplicate_cols)"
   ]
  },
  {
   "cell_type": "markdown",
   "metadata": {
    "id": "hUMVGnrAbjX4"
   },
   "source": [
    "**Observation:**\n",
    "\n",
    "no duplicate columns present"
   ]
  },
  {
   "cell_type": "markdown",
   "metadata": {
    "id": "jPJ6e5VipUT4"
   },
   "source": [
    "### **Post Profiling Report**"
   ]
  },
  {
   "cell_type": "code",
   "execution_count": null,
   "metadata": {
    "id": "gM7gDjgbpOK1"
   },
   "outputs": [],
   "source": [
    "data_profile = data.copy()\n",
    "profile = ProfileReport(data_profile)\n",
    "profile.to_file(outputfile = 'Post Profiling Report.html')"
   ]
  },
  {
   "cell_type": "markdown",
   "metadata": {
    "id": "h0GCNpoFcH-n"
   },
   "source": [
    "**Observation:**\n",
    "The report shows that there are 8 categorical features, 1 numeric feature, and two constant features that were rejected.\n",
    "\n",
    "Features with high cardinality:\n",
    "\n",
    "[Sub-product | Issue | Sub-issue | Consumer Complaint Narrative | Company | State | ZIP code]\n",
    "\n",
    "The feature Consumer consent provided? has a constant value (\"Consent provided\") and was therefore rejected for analysis.\n",
    "\n",
    "The feature Submitted via has a constant value (\"Web\") and was also rejected for analysis."
   ]
  },
  {
   "cell_type": "markdown",
   "metadata": {
    "id": "HbyAZuWGpaRu"
   },
   "source": [
    "<a id = Section6></a>\n",
    "# **6. Exploratory Data Analysis**"
   ]
  },
  {
   "cell_type": "code",
   "execution_count": null,
   "metadata": {
    "colab": {
     "base_uri": "https://localhost:8080/",
     "height": 352
    },
    "executionInfo": {
     "elapsed": 1598,
     "status": "ok",
     "timestamp": 1585645333106,
     "user": {
      "displayName": "Mukesh Kumar",
      "photoUrl": "https://lh3.googleusercontent.com/a-/AOh14GjlcDlZf8Lr8SWM0ugfq17HC9TF79sbME_lLaRW=s64",
      "userId": "12802686450045644565"
     },
     "user_tz": -330
    },
    "id": "a2Z6wph786-R",
    "outputId": "76bfcbee-ec91-40f5-f7a9-a66b8bd9eb19"
   },
   "outputs": [
    {
     "name": "stdout",
     "output_type": "stream",
     "text": [
      "Data Shape: (507049, 16)\n"
     ]
    },
    {
     "data": {
      "text/html": [
       "<div>\n",
       "<style scoped>\n",
       "    .dataframe tbody tr th:only-of-type {\n",
       "        vertical-align: middle;\n",
       "    }\n",
       "\n",
       "    .dataframe tbody tr th {\n",
       "        vertical-align: top;\n",
       "    }\n",
       "\n",
       "    .dataframe thead th {\n",
       "        text-align: right;\n",
       "    }\n",
       "</style>\n",
       "<table border=\"1\" class=\"dataframe\">\n",
       "  <thead>\n",
       "    <tr style=\"text-align: right;\">\n",
       "      <th></th>\n",
       "      <th>Date received</th>\n",
       "      <th>Product</th>\n",
       "      <th>Sub-product</th>\n",
       "      <th>Issue</th>\n",
       "      <th>Sub-issue</th>\n",
       "      <th>Consumer complaint narrative</th>\n",
       "      <th>Company public response</th>\n",
       "      <th>Company</th>\n",
       "      <th>State</th>\n",
       "      <th>ZIP code</th>\n",
       "      <th>Consumer consent provided?</th>\n",
       "      <th>Submitted via</th>\n",
       "      <th>Date sent to company</th>\n",
       "      <th>Company response to consumer</th>\n",
       "      <th>Timely response?</th>\n",
       "      <th>Consumer disputed?</th>\n",
       "    </tr>\n",
       "  </thead>\n",
       "  <tbody>\n",
       "    <tr>\n",
       "      <th>0</th>\n",
       "      <td>2019-09-24</td>\n",
       "      <td>Debt collection</td>\n",
       "      <td>I do not know</td>\n",
       "      <td>Attempts to collect debt not owed</td>\n",
       "      <td>Debt is not yours</td>\n",
       "      <td>transworld systems inc. \\nis trying to collect...</td>\n",
       "      <td>None</td>\n",
       "      <td>TRANSWORLD SYSTEMS INC</td>\n",
       "      <td>FL</td>\n",
       "      <td>335XX</td>\n",
       "      <td>Consent provided</td>\n",
       "      <td>Web</td>\n",
       "      <td>2019-09-24</td>\n",
       "      <td>Closed with explanation</td>\n",
       "      <td>Yes</td>\n",
       "      <td>NA</td>\n",
       "    </tr>\n",
       "    <tr>\n",
       "      <th>2</th>\n",
       "      <td>2019-10-25</td>\n",
       "      <td>Credit reporting, credit repair services, or o...</td>\n",
       "      <td>Credit reporting</td>\n",
       "      <td>Incorrect information on your report</td>\n",
       "      <td>Information belongs to someone else</td>\n",
       "      <td>I would like to request the suppression of the...</td>\n",
       "      <td>Company has responded to the consumer and the ...</td>\n",
       "      <td>TRANSUNION INTERMEDIATE HOLDINGS, INC.</td>\n",
       "      <td>CA</td>\n",
       "      <td>937XX</td>\n",
       "      <td>Consent provided</td>\n",
       "      <td>Web</td>\n",
       "      <td>2019-10-25</td>\n",
       "      <td>Closed with explanation</td>\n",
       "      <td>Yes</td>\n",
       "      <td>NA</td>\n",
       "    </tr>\n",
       "  </tbody>\n",
       "</table>\n",
       "</div>"
      ],
      "text/plain": [
       "  Date received                                            Product  \\\n",
       "0    2019-09-24                                    Debt collection   \n",
       "2    2019-10-25  Credit reporting, credit repair services, or o...   \n",
       "\n",
       "        Sub-product                                 Issue  \\\n",
       "0     I do not know     Attempts to collect debt not owed   \n",
       "2  Credit reporting  Incorrect information on your report   \n",
       "\n",
       "                             Sub-issue  \\\n",
       "0                    Debt is not yours   \n",
       "2  Information belongs to someone else   \n",
       "\n",
       "                        Consumer complaint narrative  \\\n",
       "0  transworld systems inc. \\nis trying to collect...   \n",
       "2  I would like to request the suppression of the...   \n",
       "\n",
       "                             Company public response  \\\n",
       "0                                               None   \n",
       "2  Company has responded to the consumer and the ...   \n",
       "\n",
       "                                  Company State ZIP code  \\\n",
       "0                  TRANSWORLD SYSTEMS INC    FL    335XX   \n",
       "2  TRANSUNION INTERMEDIATE HOLDINGS, INC.    CA    937XX   \n",
       "\n",
       "  Consumer consent provided? Submitted via Date sent to company  \\\n",
       "0           Consent provided           Web           2019-09-24   \n",
       "2           Consent provided           Web           2019-10-25   \n",
       "\n",
       "  Company response to consumer Timely response? Consumer disputed?  \n",
       "0      Closed with explanation              Yes                 NA  \n",
       "2      Closed with explanation              Yes                 NA  "
      ]
     },
     "execution_count": 33,
     "metadata": {
      "tags": []
     },
     "output_type": "execute_result"
    }
   ],
   "source": [
    "print('Data Shape:', data.shape)\n",
    "data.head(2)"
   ]
  },
  {
   "cell_type": "markdown",
   "metadata": {
    "id": "2XCeyx2nKlCA"
   },
   "source": [
    "The main focus of the analysis is to identify the Product. However, some labels in the Product feature are too long, which could pose challenges during data analysis or visualization. To address this, the label size will be reduced by modifying the values."
   ]
  },
  {
   "cell_type": "code",
   "execution_count": null,
   "metadata": {
    "colab": {
     "base_uri": "https://localhost:8080/",
     "height": 236
    },
    "executionInfo": {
     "elapsed": 1340,
     "status": "ok",
     "timestamp": 1585645338619,
     "user": {
      "displayName": "Mukesh Kumar",
      "photoUrl": "https://lh3.googleusercontent.com/a-/AOh14GjlcDlZf8Lr8SWM0ugfq17HC9TF79sbME_lLaRW=s64",
      "userId": "12802686450045644565"
     },
     "user_tz": -330
    },
    "id": "W8RqJRqCh3Bj",
    "outputId": "f2d9a7dc-3966-417d-9029-ca00d8cd442e"
   },
   "outputs": [
    {
     "data": {
      "text/html": [
       "<div>\n",
       "<style scoped>\n",
       "    .dataframe tbody tr th:only-of-type {\n",
       "        vertical-align: middle;\n",
       "    }\n",
       "\n",
       "    .dataframe tbody tr th {\n",
       "        vertical-align: top;\n",
       "    }\n",
       "\n",
       "    .dataframe thead th {\n",
       "        text-align: right;\n",
       "    }\n",
       "</style>\n",
       "<table border=\"1\" class=\"dataframe\">\n",
       "  <thead>\n",
       "    <tr style=\"text-align: right;\">\n",
       "      <th></th>\n",
       "      <th>Credit reporting, credit repair services, or other personal consumer reports</th>\n",
       "      <th>Debt collection</th>\n",
       "      <th>Mortgage</th>\n",
       "      <th>Credit card or prepaid card</th>\n",
       "      <th>Credit reporting</th>\n",
       "      <th>Student loan</th>\n",
       "      <th>Checking or savings account</th>\n",
       "      <th>Credit card</th>\n",
       "      <th>Bank account or service</th>\n",
       "      <th>Consumer Loan</th>\n",
       "      <th>Vehicle loan or lease</th>\n",
       "      <th>Money transfer, virtual currency, or money service</th>\n",
       "      <th>Payday loan, title loan, or personal loan</th>\n",
       "      <th>Payday loan</th>\n",
       "      <th>Money transfers</th>\n",
       "      <th>Prepaid card</th>\n",
       "      <th>Other financial service</th>\n",
       "      <th>Virtual currency</th>\n",
       "    </tr>\n",
       "  </thead>\n",
       "  <tbody>\n",
       "    <tr>\n",
       "      <th>Product</th>\n",
       "      <td>153150</td>\n",
       "      <td>109625</td>\n",
       "      <td>62828</td>\n",
       "      <td>33902</td>\n",
       "      <td>31304</td>\n",
       "      <td>25402</td>\n",
       "      <td>19991</td>\n",
       "      <td>18773</td>\n",
       "      <td>14765</td>\n",
       "      <td>9462</td>\n",
       "      <td>8572</td>\n",
       "      <td>7615</td>\n",
       "      <td>6722</td>\n",
       "      <td>1744</td>\n",
       "      <td>1445</td>\n",
       "      <td>1445</td>\n",
       "      <td>289</td>\n",
       "      <td>15</td>\n",
       "    </tr>\n",
       "  </tbody>\n",
       "</table>\n",
       "</div>"
      ],
      "text/plain": [
       "         Credit reporting, credit repair services, or other personal consumer reports  \\\n",
       "Product                                             153150                              \n",
       "\n",
       "         Debt collection  Mortgage  Credit card or prepaid card  \\\n",
       "Product           109625     62828                        33902   \n",
       "\n",
       "         Credit reporting  Student loan  Checking or savings account  \\\n",
       "Product             31304         25402                        19991   \n",
       "\n",
       "         Credit card  Bank account or service  Consumer Loan  \\\n",
       "Product        18773                    14765           9462   \n",
       "\n",
       "         Vehicle loan or lease  \\\n",
       "Product                   8572   \n",
       "\n",
       "         Money transfer, virtual currency, or money service  \\\n",
       "Product                                               7615    \n",
       "\n",
       "         Payday loan, title loan, or personal loan  Payday loan  \\\n",
       "Product                                       6722         1744   \n",
       "\n",
       "         Money transfers  Prepaid card  Other financial service  \\\n",
       "Product             1445          1445                      289   \n",
       "\n",
       "         Virtual currency  \n",
       "Product                15  "
      ]
     },
     "execution_count": 34,
     "metadata": {
      "tags": []
     },
     "output_type": "execute_result"
    }
   ],
   "source": [
    "product_frame = pd.DataFrame(data['Product'].value_counts())\n",
    "product_frame.transpose()"
   ]
  },
  {
   "cell_type": "markdown",
   "metadata": {
    "id": "5F3PAWXdh-K1"
   },
   "source": [
    "**Observation:**\n",
    "\n",
    "\n",
    "Some feature labels are too long, which could pose a challenge during analysis.\n",
    "\n",
    "The next step is to re-label values for features such as Product and State to simplify the analysis.\n",
    "\n"
   ]
  },
  {
   "cell_type": "code",
   "execution_count": null,
   "metadata": {
    "id": "lqJZHn8xiEgo"
   },
   "outputs": [],
   "source": [
    "data.replace({'Product':{'Credit reporting, credit repair services, or other personal consumer reports':'Credit reporting, repair, or other'},\n",
    "               'State':{'UNITED STATES MINOR OUTLYING ISLANDS':'US Minor Islands'}}, inplace = True)"
   ]
  },
  {
   "cell_type": "markdown",
   "metadata": {
    "id": "yAiLZXp1BQju"
   },
   "source": [
    "What is the **proportion** of **Consumer Complaints** with respect to the **product**?</h4>"
   ]
  },
  {
   "cell_type": "code",
   "execution_count": null,
   "metadata": {
    "colab": {
     "base_uri": "https://localhost:8080/",
     "height": 701
    },
    "executionInfo": {
     "elapsed": 2900,
     "status": "ok",
     "timestamp": 1585645348498,
     "user": {
      "displayName": "Mukesh Kumar",
      "photoUrl": "https://lh3.googleusercontent.com/a-/AOh14GjlcDlZf8Lr8SWM0ugfq17HC9TF79sbME_lLaRW=s64",
      "userId": "12802686450045644565"
     },
     "user_tz": -330
    },
    "id": "IyUmxq1wBo1U",
    "outputId": "b10527ad-7ee3-4141-a53b-73cc1ec7be26"
   },
   "outputs": [
    {
     "data": {
      "image/png": "[encoded data removed]",
      "text/plain": [
       "<Figure size 864x864 with 1 Axes>"
      ]
     },
     "metadata": {
      "tags": []
     },
     "output_type": "display_data"
    }
   ],
   "source": [
    "space = np.ones(18)/10\n",
    "labels = data['Product'].value_counts().index\n",
    "sizes = data['Product'].value_counts()/data.shape[0]\n",
    "plt.figure(figsize = [12, 12])\n",
    "patches, text, _ = plt.pie(data['Product'].value_counts(), explode = space,  \n",
    "                                     autopct = '', wedgeprops = dict(width=0.15), \n",
    "                                     shadow = True, startangle = 160)\n",
    "plt.legend(patches, labels=['%s (%1.3f %%)' % (l, s) for l, s in zip(labels, sizes*100)], loc=\"center\")\n",
    "plt.title('Proportion of Complaints against Product', size = 16)\n",
    "plt.show()"
   ]
  },
  {
   "cell_type": "markdown",
   "metadata": {
    "id": "Kai__iEHUo8q"
   },
   "source": [
    "complaints were more frequent for Credit Reporting, Credit Repair, and Debt Collection compared to other products.\n",
    "\n"
   ]
  },
  {
   "cell_type": "markdown",
   "metadata": {
    "id": "HOoN3s2GW6UD"
   },
   "source": [
    " In which year the **number** of complaints were **more**?</h4>"
   ]
  },
  {
   "cell_type": "code",
   "execution_count": null,
   "metadata": {
    "colab": {
     "base_uri": "https://localhost:8080/",
     "height": 97
    },
    "executionInfo": {
     "elapsed": 1347,
     "status": "ok",
     "timestamp": 1585632188784,
     "user": {
      "displayName": "Mukesh Kumar",
      "photoUrl": "https://lh3.googleusercontent.com/a-/AOh14GjlcDlZf8Lr8SWM0ugfq17HC9TF79sbME_lLaRW=s64",
      "userId": "12802686450045644565"
     },
     "user_tz": -330
    },
    "id": "KP3qPcucf05K",
    "outputId": "72eefa56-c894-47c8-fce2-c40539cf8018"
   },
   "outputs": [
    {
     "data": {
      "text/html": [
       "<div>\n",
       "<style scoped>\n",
       "    .dataframe tbody tr th:only-of-type {\n",
       "        vertical-align: middle;\n",
       "    }\n",
       "\n",
       "    .dataframe tbody tr th {\n",
       "        vertical-align: top;\n",
       "    }\n",
       "\n",
       "    .dataframe thead th {\n",
       "        text-align: right;\n",
       "    }\n",
       "</style>\n",
       "<table border=\"1\" class=\"dataframe\">\n",
       "  <thead>\n",
       "    <tr style=\"text-align: right;\">\n",
       "      <th></th>\n",
       "      <th>2017-09-08</th>\n",
       "      <th>2017-09-09</th>\n",
       "      <th>2017-01-19</th>\n",
       "      <th>2017-09-13</th>\n",
       "      <th>2017-01-20</th>\n",
       "      <th>2017-09-11</th>\n",
       "      <th>2017-09-14</th>\n",
       "      <th>2019-11-05</th>\n",
       "      <th>2019-08-20</th>\n",
       "      <th>2017-09-12</th>\n",
       "      <th>2019-07-25</th>\n",
       "      <th>2019-10-22</th>\n",
       "      <th>2019-07-30</th>\n",
       "      <th>2019-06-18</th>\n",
       "      <th>2019-08-13</th>\n",
       "      <th>2019-11-13</th>\n",
       "      <th>2018-02-22</th>\n",
       "      <th>2017-04-26</th>\n",
       "      <th>2019-08-07</th>\n",
       "      <th>2018-02-07</th>\n",
       "    </tr>\n",
       "  </thead>\n",
       "  <tbody>\n",
       "    <tr>\n",
       "      <th>Frequency</th>\n",
       "      <td>1875</td>\n",
       "      <td>1350</td>\n",
       "      <td>1009</td>\n",
       "      <td>899</td>\n",
       "      <td>808</td>\n",
       "      <td>614</td>\n",
       "      <td>564</td>\n",
       "      <td>561</td>\n",
       "      <td>561</td>\n",
       "      <td>560</td>\n",
       "      <td>554</td>\n",
       "      <td>553</td>\n",
       "      <td>538</td>\n",
       "      <td>536</td>\n",
       "      <td>535</td>\n",
       "      <td>527</td>\n",
       "      <td>525</td>\n",
       "      <td>525</td>\n",
       "      <td>518</td>\n",
       "      <td>517</td>\n",
       "    </tr>\n",
       "  </tbody>\n",
       "</table>\n",
       "</div>"
      ],
      "text/plain": [
       "           2017-09-08  2017-09-09  2017-01-19  2017-09-13  2017-01-20  \\\n",
       "Frequency        1875        1350        1009         899         808   \n",
       "\n",
       "           2017-09-11  2017-09-14  2019-11-05  2019-08-20  2017-09-12  \\\n",
       "Frequency         614         564         561         561         560   \n",
       "\n",
       "           2019-07-25  2019-10-22  2019-07-30  2019-06-18  2019-08-13  \\\n",
       "Frequency         554         553         538         536         535   \n",
       "\n",
       "           2019-11-13  2018-02-22  2017-04-26  2019-08-07  2018-02-07  \n",
       "Frequency         527         525         525         518         517  "
      ]
     },
     "execution_count": 56,
     "metadata": {
      "tags": []
     },
     "output_type": "execute_result"
    }
   ],
   "source": [
    "high_comp_year = pd.DataFrame(data = data['Date received'].value_counts()[0:20])\n",
    "high_comp_year.columns = ['Frequency']\n",
    "high_comp_year.transpose()"
   ]
  },
  {
   "cell_type": "code",
   "execution_count": null,
   "metadata": {
    "colab": {
     "base_uri": "https://localhost:8080/",
     "height": 487
    },
    "executionInfo": {
     "elapsed": 1927,
     "status": "ok",
     "timestamp": 1585632251925,
     "user": {
      "displayName": "Mukesh Kumar",
      "photoUrl": "https://lh3.googleusercontent.com/a-/AOh14GjlcDlZf8Lr8SWM0ugfq17HC9TF79sbME_lLaRW=s64",
      "userId": "12802686450045644565"
     },
     "user_tz": -330
    },
    "id": "yo9eLR3zXHWy",
    "outputId": "79e6b6a8-981e-435c-9696-66a47f06cd7d"
   },
   "outputs": [
    {
     "data": {
      "image/png": "[encoded data removed]",
      "text/plain": [
       "<Figure size 1080x576 with 1 Axes>"
      ]
     },
     "metadata": {
      "tags": []
     },
     "output_type": "display_data"
    }
   ],
   "source": [
    "figure = plt.figure(figsize = [15, 8])\n",
    "data['Date received'].value_counts().plot(kind = 'line', color = '#493F58')\n",
    "plt.xlabel('Year', size = 14)\n",
    "plt.ylabel('Frequency', size = 14)\n",
    "plt.title('Complaints Rate per year', size = 16)\n",
    "plt.show()"
   ]
  },
  {
   "cell_type": "markdown",
   "metadata": {
    "id": "KlaeARtDZykD"
   },
   "source": [
    "**Observation:**\n",
    "The number of complaints were more between (2017-07 & 2018-09)**, to be more precise around the month of **September in 2017**."
   ]
  },
  {
   "cell_type": "markdown",
   "metadata": {
    "id": "fbeOs6M4aX2I"
   },
   "source": [
    "**<h4>Question 3:** What is the **frequency** of **complaints** with respect to each **product**?</h4>"
   ]
  },
  {
   "cell_type": "code",
   "execution_count": null,
   "metadata": {
    "colab": {
     "base_uri": "https://localhost:8080/",
     "height": 185
    },
    "executionInfo": {
     "elapsed": 1425,
     "status": "ok",
     "timestamp": 1585632269646,
     "user": {
      "displayName": "Mukesh Kumar",
      "photoUrl": "https://lh3.googleusercontent.com/a-/AOh14GjlcDlZf8Lr8SWM0ugfq17HC9TF79sbME_lLaRW=s64",
      "userId": "12802686450045644565"
     },
     "user_tz": -330
    },
    "id": "M5oV2T4olzF_",
    "outputId": "03031d55-96ba-4e27-d959-1ef3d0895328"
   },
   "outputs": [
    {
     "data": {
      "text/html": [
       "<div>\n",
       "<style scoped>\n",
       "    .dataframe tbody tr th:only-of-type {\n",
       "        vertical-align: middle;\n",
       "    }\n",
       "\n",
       "    .dataframe tbody tr th {\n",
       "        vertical-align: top;\n",
       "    }\n",
       "\n",
       "    .dataframe thead th {\n",
       "        text-align: right;\n",
       "    }\n",
       "</style>\n",
       "<table border=\"1\" class=\"dataframe\">\n",
       "  <thead>\n",
       "    <tr style=\"text-align: right;\">\n",
       "      <th></th>\n",
       "      <th>Credit reporting, repair, or other</th>\n",
       "      <th>Debt collection</th>\n",
       "      <th>Mortgage</th>\n",
       "      <th>Credit card or prepaid card</th>\n",
       "      <th>Credit reporting</th>\n",
       "      <th>Student loan</th>\n",
       "      <th>Checking or savings account</th>\n",
       "      <th>Credit card</th>\n",
       "      <th>Bank account or service</th>\n",
       "      <th>Consumer Loan</th>\n",
       "      <th>Vehicle loan or lease</th>\n",
       "      <th>Money transfer, virtual currency, or money service</th>\n",
       "      <th>Payday loan, title loan, or personal loan</th>\n",
       "      <th>Payday loan</th>\n",
       "      <th>Money transfers</th>\n",
       "      <th>Prepaid card</th>\n",
       "      <th>Other financial service</th>\n",
       "      <th>Virtual currency</th>\n",
       "    </tr>\n",
       "  </thead>\n",
       "  <tbody>\n",
       "    <tr>\n",
       "      <th>Product</th>\n",
       "      <td>152961</td>\n",
       "      <td>109532</td>\n",
       "      <td>62781</td>\n",
       "      <td>33851</td>\n",
       "      <td>31304</td>\n",
       "      <td>25391</td>\n",
       "      <td>19976</td>\n",
       "      <td>18773</td>\n",
       "      <td>14765</td>\n",
       "      <td>9462</td>\n",
       "      <td>8559</td>\n",
       "      <td>7615</td>\n",
       "      <td>6717</td>\n",
       "      <td>1744</td>\n",
       "      <td>1445</td>\n",
       "      <td>1445</td>\n",
       "      <td>289</td>\n",
       "      <td>15</td>\n",
       "    </tr>\n",
       "  </tbody>\n",
       "</table>\n",
       "</div>"
      ],
      "text/plain": [
       "         Credit reporting, repair, or other  Debt collection  Mortgage  \\\n",
       "Product                              152961           109532     62781   \n",
       "\n",
       "         Credit card or prepaid card  Credit reporting  Student loan  \\\n",
       "Product                        33851             31304         25391   \n",
       "\n",
       "         Checking or savings account  Credit card  Bank account or service  \\\n",
       "Product                        19976        18773                    14765   \n",
       "\n",
       "         Consumer Loan  Vehicle loan or lease  \\\n",
       "Product           9462                   8559   \n",
       "\n",
       "         Money transfer, virtual currency, or money service  \\\n",
       "Product                                               7615    \n",
       "\n",
       "         Payday loan, title loan, or personal loan  Payday loan  \\\n",
       "Product                                       6717         1744   \n",
       "\n",
       "         Money transfers  Prepaid card  Other financial service  \\\n",
       "Product             1445          1445                      289   \n",
       "\n",
       "         Virtual currency  \n",
       "Product                15  "
      ]
     },
     "execution_count": 61,
     "metadata": {
      "tags": []
     },
     "output_type": "execute_result"
    }
   ],
   "source": [
    "product_frame = pd.DataFrame(data['Product'].value_counts())\n",
    "product_frame.transpose()"
   ]
  },
  {
   "cell_type": "code",
   "execution_count": null,
   "metadata": {
    "colab": {
     "base_uri": "https://localhost:8080/",
     "height": 599
    },
    "executionInfo": {
     "elapsed": 1789,
     "status": "ok",
     "timestamp": 1585632291951,
     "user": {
      "displayName": "Mukesh Kumar",
      "photoUrl": "https://lh3.googleusercontent.com/a-/AOh14GjlcDlZf8Lr8SWM0ugfq17HC9TF79sbME_lLaRW=s64",
      "userId": "12802686450045644565"
     },
     "user_tz": -330
    },
    "id": "8ofVZcXXa81O",
    "outputId": "aee53f36-65f8-4ce3-b04b-177fbfdb7308"
   },
   "outputs": [
    {
     "data": {
      "image/png": "[encoded data removed]",
      "text/plain": [
       "<Figure size 1080x360 with 1 Axes>"
      ]
     },
     "metadata": {
      "tags": []
     },
     "output_type": "display_data"
    }
   ],
   "source": [
    "figure = plt.figure(figsize = [15, 5])\n",
    "\n",
    "ax = sns.barplot(data['Product'].value_counts().index, data['Product'].value_counts(), palette  = sns.color_palette(\"cubehelix\", 8))\n",
    "\n",
    "total = data.shape[0]\n",
    "for p in ax.patches:\n",
    "  percentage = '{:.2f}%'.format(100*p.get_height()/ total)\n",
    "  x = p.get_x() + p.get_width() / 12\n",
    "  y = p.get_y() + p.get_height() + 2\n",
    "  ax.annotate(percentage, (x, y))\n",
    "plt.yticks(range(0, 150000, 20000))\n",
    "plt.xticks(rotation = 90)\n",
    "plt.xlabel('Product', size = 14)\n",
    "plt.ylabel('Frequency', size = 14)\n",
    "plt.title('Complaints per Product', size = 16)\n",
    "plt.show()"
   ]
  },
  {
   "cell_type": "markdown",
   "metadata": {
    "id": "6fq1Z29QigB-"
   },
   "source": [
    "**Observation:**\n",
    "\n",
    "- **Credit reporting, repair or others** are having **more compalaints** than any other product i.e. **~30%**.\n",
    "- Consumer complaints for **virtual currency** has **very few complaints** than any other product."
   ]
  },
  {
   "cell_type": "markdown",
   "metadata": {
    "id": "1t7tjhbXjo5u"
   },
   "source": [
    "**<h4>Q4:** What is the **frequency** of **company public response on receiving complaints**?</h4>"
   ]
  },
  {
   "cell_type": "code",
   "execution_count": null,
   "metadata": {
    "colab": {
     "base_uri": "https://localhost:8080/",
     "height": 390
    },
    "executionInfo": {
     "elapsed": 1341,
     "status": "ok",
     "timestamp": 1585632342627,
     "user": {
      "displayName": "Mukesh Kumar",
      "photoUrl": "https://lh3.googleusercontent.com/a-/AOh14GjlcDlZf8Lr8SWM0ugfq17HC9TF79sbME_lLaRW=s64",
      "userId": "12802686450045644565"
     },
     "user_tz": -330
    },
    "id": "cKPUM_FSjxDb",
    "outputId": "7d20fc5b-31da-41c4-d982-ccfd07ded488"
   },
   "outputs": [
    {
     "data": {
      "text/html": [
       "<div>\n",
       "<style scoped>\n",
       "    .dataframe tbody tr th:only-of-type {\n",
       "        vertical-align: middle;\n",
       "    }\n",
       "\n",
       "    .dataframe tbody tr th {\n",
       "        vertical-align: top;\n",
       "    }\n",
       "\n",
       "    .dataframe thead th {\n",
       "        text-align: right;\n",
       "    }\n",
       "</style>\n",
       "<table border=\"1\" class=\"dataframe\">\n",
       "  <thead>\n",
       "    <tr style=\"text-align: right;\">\n",
       "      <th></th>\n",
       "      <th>Frequency</th>\n",
       "    </tr>\n",
       "  </thead>\n",
       "  <tbody>\n",
       "    <tr>\n",
       "      <th>None</th>\n",
       "      <td>259108</td>\n",
       "    </tr>\n",
       "    <tr>\n",
       "      <th>Company has responded to the consumer and the CFPB and chooses not to provide a public response</th>\n",
       "      <td>179145</td>\n",
       "    </tr>\n",
       "    <tr>\n",
       "      <th>Company believes it acted appropriately as authorized by contract or law</th>\n",
       "      <td>34584</td>\n",
       "    </tr>\n",
       "    <tr>\n",
       "      <th>Company chooses not to provide a public response</th>\n",
       "      <td>19628</td>\n",
       "    </tr>\n",
       "    <tr>\n",
       "      <th>Company believes the complaint is the result of a misunderstanding</th>\n",
       "      <td>3321</td>\n",
       "    </tr>\n",
       "    <tr>\n",
       "      <th>Company disputes the facts presented in the complaint</th>\n",
       "      <td>3242</td>\n",
       "    </tr>\n",
       "    <tr>\n",
       "      <th>Company believes complaint caused principally by actions of third party outside the control or direction of the company</th>\n",
       "      <td>2325</td>\n",
       "    </tr>\n",
       "    <tr>\n",
       "      <th>Company believes complaint is the result of an isolated error</th>\n",
       "      <td>2301</td>\n",
       "    </tr>\n",
       "    <tr>\n",
       "      <th>Company believes complaint represents an opportunity for improvement to better serve consumers</th>\n",
       "      <td>1747</td>\n",
       "    </tr>\n",
       "    <tr>\n",
       "      <th>Company can't verify or dispute the facts in the complaint</th>\n",
       "      <td>1185</td>\n",
       "    </tr>\n",
       "    <tr>\n",
       "      <th>Company believes complaint relates to a discontinued policy or procedure</th>\n",
       "      <td>39</td>\n",
       "    </tr>\n",
       "  </tbody>\n",
       "</table>\n",
       "</div>"
      ],
      "text/plain": [
       "                                                    Frequency\n",
       "None                                                   259108\n",
       "Company has responded to the consumer and the C...     179145\n",
       "Company believes it acted appropriately as auth...      34584\n",
       "Company chooses not to provide a public response        19628\n",
       "Company believes the complaint is the result of...       3321\n",
       "Company disputes the facts presented in the com...       3242\n",
       "Company believes complaint caused principally b...       2325\n",
       "Company believes complaint is the result of an ...       2301\n",
       "Company believes complaint represents an opport...       1747\n",
       "Company can't verify or dispute the facts in th...       1185\n",
       "Company believes complaint relates to a discont...         39"
      ]
     },
     "execution_count": 65,
     "metadata": {
      "tags": []
     },
     "output_type": "execute_result"
    }
   ],
   "source": [
    "company_public_frame = pd.DataFrame(data['Company public response'].value_counts())\n",
    "company_public_frame.columns = ['Frequency']\n",
    "company_public_frame"
   ]
  },
  {
   "cell_type": "markdown",
   "metadata": {
    "id": "G5FT98fEjcBa"
   },
   "source": [
    "**Observation:**\n",
    "\n",
    "- For **majority** of complaints there was **no response**, neither to consumer nor to CFPB and public response. \n",
    "- For second **majority** of **complaints** **company** has **responded** to the **consumer** as well as **CFPB** but **abstain** to provide a **public response**.\n",
    "- For **minority** of **complaints** **company** **believes** that **complaint relates to a discontinued policy or procedure**."
   ]
  },
  {
   "cell_type": "markdown",
   "metadata": {
    "id": "kNkKqdEInnGz"
   },
   "source": [
    "**<h4>Q5:** Which are the **top 10 companies** that had **highest** number of **complaints** from customers?</h4>"
   ]
  },
  {
   "cell_type": "code",
   "execution_count": null,
   "metadata": {
    "colab": {
     "base_uri": "https://localhost:8080/",
     "height": 114
    },
    "executionInfo": {
     "elapsed": 1321,
     "status": "ok",
     "timestamp": 1585632356662,
     "user": {
      "displayName": "Mukesh Kumar",
      "photoUrl": "https://lh3.googleusercontent.com/a-/AOh14GjlcDlZf8Lr8SWM0ugfq17HC9TF79sbME_lLaRW=s64",
      "userId": "12802686450045644565"
     },
     "user_tz": -330
    },
    "id": "YF3IjZ_Ynsj7",
    "outputId": "b045305c-0d64-496a-8ae3-1fc919181fc7"
   },
   "outputs": [
    {
     "data": {
      "text/html": [
       "<div>\n",
       "<style scoped>\n",
       "    .dataframe tbody tr th:only-of-type {\n",
       "        vertical-align: middle;\n",
       "    }\n",
       "\n",
       "    .dataframe tbody tr th {\n",
       "        vertical-align: top;\n",
       "    }\n",
       "\n",
       "    .dataframe thead th {\n",
       "        text-align: right;\n",
       "    }\n",
       "</style>\n",
       "<table border=\"1\" class=\"dataframe\">\n",
       "  <thead>\n",
       "    <tr style=\"text-align: right;\">\n",
       "      <th></th>\n",
       "      <th>EQUIFAX, INC.</th>\n",
       "      <th>Experian Information Solutions Inc.</th>\n",
       "      <th>TRANSUNION INTERMEDIATE HOLDINGS, INC.</th>\n",
       "      <th>CITIBANK, N.A.</th>\n",
       "      <th>WELLS FARGO &amp; COMPANY</th>\n",
       "      <th>BANK OF AMERICA, NATIONAL ASSOCIATION</th>\n",
       "      <th>JPMORGAN CHASE &amp; CO.</th>\n",
       "      <th>Navient Solutions, LLC.</th>\n",
       "      <th>CAPITAL ONE FINANCIAL CORPORATION</th>\n",
       "      <th>SYNCHRONY FINANCIAL</th>\n",
       "    </tr>\n",
       "  </thead>\n",
       "  <tbody>\n",
       "    <tr>\n",
       "      <th>Frequency</th>\n",
       "      <td>54675</td>\n",
       "      <td>47058</td>\n",
       "      <td>46852</td>\n",
       "      <td>16808</td>\n",
       "      <td>16608</td>\n",
       "      <td>16172</td>\n",
       "      <td>15982</td>\n",
       "      <td>14410</td>\n",
       "      <td>13713</td>\n",
       "      <td>9319</td>\n",
       "    </tr>\n",
       "  </tbody>\n",
       "</table>\n",
       "</div>"
      ],
      "text/plain": [
       "           EQUIFAX, INC.  Experian Information Solutions Inc.  \\\n",
       "Frequency          54675                                47058   \n",
       "\n",
       "           TRANSUNION INTERMEDIATE HOLDINGS, INC.  CITIBANK, N.A.  \\\n",
       "Frequency                                   46852           16808   \n",
       "\n",
       "           WELLS FARGO & COMPANY  BANK OF AMERICA, NATIONAL ASSOCIATION  \\\n",
       "Frequency                  16608                                  16172   \n",
       "\n",
       "           JPMORGAN CHASE & CO.  Navient Solutions, LLC.  \\\n",
       "Frequency                 15982                    14410   \n",
       "\n",
       "           CAPITAL ONE FINANCIAL CORPORATION  SYNCHRONY FINANCIAL  \n",
       "Frequency                              13713                 9319  "
      ]
     },
     "execution_count": 67,
     "metadata": {
      "tags": []
     },
     "output_type": "execute_result"
    }
   ],
   "source": [
    "top10 = pd.DataFrame(data['Company'].value_counts()[0:10])\n",
    "top10.columns = ['Frequency']\n",
    "top10.transpose()"
   ]
  },
  {
   "cell_type": "code",
   "execution_count": null,
   "metadata": {
    "colab": {
     "base_uri": "https://localhost:8080/",
     "height": 734
    },
    "executionInfo": {
     "elapsed": 1605,
     "status": "ok",
     "timestamp": 1585632469179,
     "user": {
      "displayName": "Mukesh Kumar",
      "photoUrl": "https://lh3.googleusercontent.com/a-/AOh14GjlcDlZf8Lr8SWM0ugfq17HC9TF79sbME_lLaRW=s64",
      "userId": "12802686450045644565"
     },
     "user_tz": -330
    },
    "id": "8ssyvsJppclj",
    "outputId": "7d45b7ea-465e-4cd8-9e85-a1a5a389917c"
   },
   "outputs": [
    {
     "data": {
      "image/png": "[encoded data removed]",
      "text/plain": [
       "<Figure size 1080x576 with 1 Axes>"
      ]
     },
     "metadata": {
      "tags": []
     },
     "output_type": "display_data"
    }
   ],
   "source": [
    "figure = plt.figure(figsize = [15, 8])\n",
    "\n",
    "# Generating random colors\n",
    "colors = []\n",
    "for i in range(10):\n",
    "  colors.append('#%06X' % randint(0, 0xFFFFFF))\n",
    "\n",
    "ax = sns.barplot(data['Company'].value_counts()[0:10].index, data['Company'].value_counts()[0:10], palette  = colors)\n",
    "\n",
    "total = data.shape[0]\n",
    "for p in ax.patches:\n",
    "  percentage = '{:.2f}%'.format(100*p.get_height()/ total)\n",
    "  x = p.get_x() + p.get_width() / 5\n",
    "  y = p.get_y() + p.get_height() * 1.015\n",
    "  ax.annotate(percentage, (x, y))\n",
    "\n",
    "plt.yticks(range(0, 60000, 3000))\n",
    "plt.xticks(rotation = 90)\n",
    "plt.xlabel('Product', size = 14)\n",
    "plt.ylabel('Frequency', size = 14)\n",
    "plt.title('Top 10 Companies Under Complaints', size = 16)\n",
    "plt.show()"
   ]
  },
  {
   "cell_type": "markdown",
   "metadata": {
    "id": "Y5NddZT1qMuG"
   },
   "source": [
    "**<h4>Q6:** What is the **complaint rate** per **State**?</h4>"
   ]
  },
  {
   "cell_type": "code",
   "execution_count": null,
   "metadata": {
    "colab": {
     "base_uri": "https://localhost:8080/",
     "height": 1000
    },
    "executionInfo": {
     "elapsed": 2361,
     "status": "ok",
     "timestamp": 1585632905086,
     "user": {
      "displayName": "Mukesh Kumar",
      "photoUrl": "https://lh3.googleusercontent.com/a-/AOh14GjlcDlZf8Lr8SWM0ugfq17HC9TF79sbME_lLaRW=s64",
      "userId": "12802686450045644565"
     },
     "user_tz": -330
    },
    "id": "ux6ZnK3rqjVf",
    "outputId": "70fdc008-7bc8-4aa1-e560-40b397416e88"
   },
   "outputs": [
    {
     "name": "stdout",
     "output_type": "stream",
     "text": [
      "Total States are:  63\n",
      "States: ['CA' 'FL' 'TX' 'GA' 'NY' 'IL' 'PA' 'NC' 'NJ' 'OH' 'VA' 'MD' 'MI' 'AZ'\n",
      " 'TN' 'MA' 'WA' 'MO' 'SC' 'NV' 'CO' 'LA' 'AL' 'IN' 'MN' 'CT' 'WI' 'OR'\n",
      " 'UT' 'KY' 'MS' 'AR' 'OK' 'DC' 'KS' 'DE' 'NM' 'IA' 'HI' 'ID' 'NH' 'NE'\n",
      " 'RI' 'ME' 'WV' 'PR' 'MT' 'ND' 'SD' 'AK' 'WY' 'VT' 'AE' 'AP' 'GU' 'VI'\n",
      " 'FM' 'US Minor Islands' 'AA' 'AS' 'MP' 'MH' 'PW']\n"
     ]
    },
    {
     "data": {
      "image/png": "[encoded data removed]",
      "text/plain": [
       "<Figure size 1080x1080 with 1 Axes>"
      ]
     },
     "metadata": {
      "tags": []
     },
     "output_type": "display_data"
    }
   ],
   "source": [
    "print('Total States are: ', len(data['State'].value_counts().index))\n",
    "print('States:', data['State'].value_counts().index.values)\n",
    "figure = plt.figure(figsize = [15, 15])\n",
    "ax = sns.barplot(data['State'].value_counts(), data['State'].value_counts().index, palette  = sns.color_palette(\"husl\", len(data['State'].unique())))\n",
    "total = len(data['State'])\n",
    "for p in ax.patches:\n",
    "        percentage = '{:.2f}%'.format(100 * p.get_width()/total)\n",
    "        x = p.get_x() + p.get_width()\n",
    "        y = p.get_y() + p.get_height()\n",
    "        ax.annotate(percentage, (x, y))\n",
    "\n",
    "plt.xlabel('Frequency', size = 14)\n",
    "plt.ylabel('State', size = 14)\n",
    "plt.title('Complaint Rate per State', size = 16)\n",
    "plt.show()"
   ]
  },
  {
   "cell_type": "markdown",
   "metadata": {
    "id": "jxc14UnKExr8"
   },
   "source": [
    "**Observation:**\n",
    "California (CA) registered the highest number of complaints, accounting for approximately 13% of total records.\n",
    "\n",
    "Florida (FL) followed with around 10% of complaints.\n",
    "\n",
    "Texas (TX) accounted for approximately 9%, followed by other states in decreasing order."
   ]
  },
  {
   "cell_type": "markdown",
   "metadata": {
    "id": "TZZdvjp3smd9"
   },
   "source": [
    "**<h4>Q7:** In what **way**, the **customers** prefered the submitting their **complaint**?</h4>"
   ]
  },
  {
   "cell_type": "code",
   "execution_count": null,
   "metadata": {
    "colab": {
     "base_uri": "https://localhost:8080/",
     "height": 51
    },
    "executionInfo": {
     "elapsed": 1371,
     "status": "ok",
     "timestamp": 1585633211197,
     "user": {
      "displayName": "Mukesh Kumar",
      "photoUrl": "https://lh3.googleusercontent.com/a-/AOh14GjlcDlZf8Lr8SWM0ugfq17HC9TF79sbME_lLaRW=s64",
      "userId": "12802686450045644565"
     },
     "user_tz": -330
    },
    "id": "JEdMsPKh3-TU",
    "outputId": "deaa8422-f14e-4a9c-e805-6948691ffcdc"
   },
   "outputs": [
    {
     "name": "stdout",
     "output_type": "stream",
     "text": [
      "Web    506625\n",
      "Name: Submitted via, dtype: int64\n"
     ]
    }
   ],
   "source": [
    "print(data['Submitted via'].value_counts())"
   ]
  },
  {
   "cell_type": "markdown",
   "metadata": {
    "id": "dnE_NeXf5Y9p"
   },
   "source": [
    "**Observation:**\n",
    "\n",
    "- Observation:\n",
    "\n",
    "During data cleaning, certain records containing relevant information were likely dropped due to their insignificant volume.\n",
    "\n",
    "As a result, the profiling report marked the affected feature as a scalar feature.\n",
    "\n",
    "This feature will be dropped in a later stage of the analysis."
   ]
  },
  {
   "cell_type": "markdown",
   "metadata": {
    "id": "SC7dG0WT5qS5"
   },
   "source": [
    "**<h4>Q 8:** Is there any **delay** while **receiving** and **forwarding complaints** to the companies?</h4>"
   ]
  },
  {
   "cell_type": "code",
   "execution_count": null,
   "metadata": {
    "colab": {
     "base_uri": "https://localhost:8080/",
     "height": 474
    },
    "executionInfo": {
     "elapsed": 2916,
     "status": "ok",
     "timestamp": 1585633593575,
     "user": {
      "displayName": "Mukesh Kumar",
      "photoUrl": "https://lh3.googleusercontent.com/a-/AOh14GjlcDlZf8Lr8SWM0ugfq17HC9TF79sbME_lLaRW=s64",
      "userId": "12802686450045644565"
     },
     "user_tz": -330
    },
    "id": "U-hruZxW521i",
    "outputId": "432059e2-43e8-4d85-b55f-7193f277fefa"
   },
   "outputs": [
    {
     "data": {
      "image/png": "[encoded data removed]",
      "text/plain": [
       "<Figure size 1152x432 with 2 Axes>"
      ]
     },
     "metadata": {
      "tags": []
     },
     "output_type": "display_data"
    }
   ],
   "source": [
    "figure = plt.figure(figsize = [16, 6])\n",
    "plt.subplot(1,2,1)\n",
    "data['Date received'].value_counts().plot(kind = 'line', color = '#493F58')\n",
    "plt.xlabel('Year', size = 14)\n",
    "plt.ylabel('Frequency', size = 14)\n",
    "plt.title('Receiving Rate', size = 16)\n",
    "\n",
    "plt.subplot(1,2,2)\n",
    "data['Date sent to company'].value_counts().plot(kind = 'line', color = '#493F58')\n",
    "plt.xlabel('Year', size = 14)\n",
    "plt.ylabel('')\n",
    "plt.title('Forwarding Rate', size = 16)\n",
    "\n",
    "plt.suptitle('Complaints Delays per year', size = 18, y = 1.05)\n",
    "plt.tight_layout()\n",
    "plt.show()"
   ]
  },
  {
   "cell_type": "markdown",
   "metadata": {
    "id": "4n9W-6kS71nJ"
   },
   "source": [
    "**Observation:**\n",
    "\n",
    "-The analysis indicates a distortion in the data, suggesting that delays occurred in forwarding certain complaints to the respective companies.\n",
    "\n"
   ]
  },
  {
   "cell_type": "markdown",
   "metadata": {
    "id": "YpoSps_c9hzv"
   },
   "source": [
    "**<h4>Question 9:** What is **frequency** of the **timely response** with respsect to each **product**?</h4>"
   ]
  },
  {
   "cell_type": "code",
   "execution_count": null,
   "metadata": {
    "colab": {
     "base_uri": "https://localhost:8080/",
     "height": 80
    },
    "executionInfo": {
     "elapsed": 1572,
     "status": "ok",
     "timestamp": 1583238199489,
     "user": {
      "displayName": "Mukesh Kumar",
      "photoUrl": "https://lh3.googleusercontent.com/a-/AOh14GjlcDlZf8Lr8SWM0ugfq17HC9TF79sbME_lLaRW=s64",
      "userId": "12802686450045644565"
     },
     "user_tz": -330
    },
    "id": "Egg6CqEbAkVS",
    "outputId": "f8661524-daf1-48a0-c408-414d2e76a761"
   },
   "outputs": [
    {
     "data": {
      "text/html": [
       "<div>\n",
       "<style scoped>\n",
       "    .dataframe tbody tr th:only-of-type {\n",
       "        vertical-align: middle;\n",
       "    }\n",
       "\n",
       "    .dataframe tbody tr th {\n",
       "        vertical-align: top;\n",
       "    }\n",
       "\n",
       "    .dataframe thead th {\n",
       "        text-align: right;\n",
       "    }\n",
       "</style>\n",
       "<table border=\"1\" class=\"dataframe\">\n",
       "  <thead>\n",
       "    <tr style=\"text-align: right;\">\n",
       "      <th></th>\n",
       "      <th>Yes</th>\n",
       "      <th>No</th>\n",
       "    </tr>\n",
       "  </thead>\n",
       "  <tbody>\n",
       "    <tr>\n",
       "      <th>Frequency</th>\n",
       "      <td>482823</td>\n",
       "      <td>13338</td>\n",
       "    </tr>\n",
       "  </tbody>\n",
       "</table>\n",
       "</div>"
      ],
      "text/plain": [
       "              Yes     No\n",
       "Frequency  482823  13338"
      ]
     },
     "execution_count": 35,
     "metadata": {
      "tags": []
     },
     "output_type": "execute_result"
    }
   ],
   "source": [
    "timely_response_frame = pd.DataFrame(data2['Timely response?'].value_counts())\n",
    "timely_response_frame.columns = ['Frequency']\n",
    "timely_response_frame.transpose()"
   ]
  },
  {
   "cell_type": "code",
   "execution_count": null,
   "metadata": {
    "colab": {
     "base_uri": "https://localhost:8080/",
     "height": 762
    },
    "executionInfo": {
     "elapsed": 9468,
     "status": "ok",
     "timestamp": 1585634262559,
     "user": {
      "displayName": "Mukesh Kumar",
      "photoUrl": "https://lh3.googleusercontent.com/a-/AOh14GjlcDlZf8Lr8SWM0ugfq17HC9TF79sbME_lLaRW=s64",
      "userId": "12802686450045644565"
     },
     "user_tz": -330
    },
    "id": "QoVPY1S9AJOJ",
    "outputId": "38d851c8-c688-4735-c136-e2bd88734d02"
   },
   "outputs": [
    {
     "data": {
      "image/png": "[encoded data removed]",
      "text/plain": [
       "<Figure size 1080x576 with 1 Axes>"
      ]
     },
     "metadata": {
      "tags": []
     },
     "output_type": "display_data"
    }
   ],
   "source": [
    "figure = plt.figure(figsize = [15, 8])\n",
    "ax = sns.countplot(x = 'Product',  data = data, hue = 'Timely response?', palette = ['#56DB7F', '#DB5E56'])\n",
    "\n",
    "total = data.shape[0]\n",
    "for p in ax.patches:\n",
    "  percentage = '{:.1f}%'.format(100*p.get_height() / total)\n",
    "  x = p.get_x() + p.get_width() / 18\n",
    "  y = p.get_y() + p.get_height() * 1.001\n",
    "  ax.annotate(percentage, (x, y))\n",
    "\n",
    "plt.xlabel('Product', size = 14)\n",
    "plt.xticks(rotation = 90)\n",
    "plt.ylabel('Frequency', size = 14)\n",
    "plt.yticks(range(0, 160000, 10000))\n",
    "plt.title('Product vs Timely Response', size = 16)\n",
    "plt.show()"
   ]
  },
  {
   "cell_type": "markdown",
   "metadata": {
    "id": "-fny1C0RLChH"
   },
   "source": [
    "**Observation:**\n",
    "\n",
    "Credit reporting, repair, and other product complaints were responded to on time at a rate of 29%, with only 0.4% of complaints receiving a late response.\n",
    "\n",
    "Debt collection showed approximately 1.4% of complaints that were not responded to on time.\n",
    "\n"
   ]
  },
  {
   "cell_type": "code",
   "execution_count": null,
   "metadata": {},
   "outputs": [],
   "source": []
  },
  {
   "cell_type": "markdown",
   "metadata": {
    "id": "BT_NvJLYC4R3"
   },
   "source": [
    "**<h4>Question 10:** What is the **dispute** frequency **per product** by customer?</h4>"
   ]
  },
  {
   "cell_type": "code",
   "execution_count": null,
   "metadata": {
    "colab": {
     "base_uri": "https://localhost:8080/",
     "height": 80
    },
    "executionInfo": {
     "elapsed": 1859,
     "status": "ok",
     "timestamp": 1585634341007,
     "user": {
      "displayName": "Mukesh Kumar",
      "photoUrl": "https://lh3.googleusercontent.com/a-/AOh14GjlcDlZf8Lr8SWM0ugfq17HC9TF79sbME_lLaRW=s64",
      "userId": "12802686450045644565"
     },
     "user_tz": -330
    },
    "id": "1Fw2zCWE9eSQ",
    "outputId": "59b3c3c2-320a-4d0e-ccb2-4112a1f48e03"
   },
   "outputs": [
    {
     "data": {
      "text/html": [
       "<div>\n",
       "<style scoped>\n",
       "    .dataframe tbody tr th:only-of-type {\n",
       "        vertical-align: middle;\n",
       "    }\n",
       "\n",
       "    .dataframe tbody tr th {\n",
       "        vertical-align: top;\n",
       "    }\n",
       "\n",
       "    .dataframe thead th {\n",
       "        text-align: right;\n",
       "    }\n",
       "</style>\n",
       "<table border=\"1\" class=\"dataframe\">\n",
       "  <thead>\n",
       "    <tr style=\"text-align: right;\">\n",
       "      <th></th>\n",
       "      <th>NA</th>\n",
       "      <th>No</th>\n",
       "      <th>Yes</th>\n",
       "    </tr>\n",
       "  </thead>\n",
       "  <tbody>\n",
       "    <tr>\n",
       "      <th>Frequency</th>\n",
       "      <td>343351</td>\n",
       "      <td>127665</td>\n",
       "      <td>35609</td>\n",
       "    </tr>\n",
       "  </tbody>\n",
       "</table>\n",
       "</div>"
      ],
      "text/plain": [
       "               NA      No    Yes\n",
       "Frequency  343351  127665  35609"
      ]
     },
     "execution_count": 95,
     "metadata": {
      "tags": []
     },
     "output_type": "execute_result"
    }
   ],
   "source": [
    "dispute_frame = pd.DataFrame(data['Consumer disputed?'].value_counts())\n",
    "dispute_frame.columns = ['Frequency']\n",
    "dispute_frame.transpose()"
   ]
  },
  {
   "cell_type": "code",
   "execution_count": null,
   "metadata": {
    "colab": {
     "base_uri": "https://localhost:8080/",
     "height": 233
    },
    "executionInfo": {
     "elapsed": 1319,
     "status": "ok",
     "timestamp": 1585634857417,
     "user": {
      "displayName": "Mukesh Kumar",
      "photoUrl": "https://lh3.googleusercontent.com/a-/AOh14GjlcDlZf8Lr8SWM0ugfq17HC9TF79sbME_lLaRW=s64",
      "userId": "12802686450045644565"
     },
     "user_tz": -330
    },
    "id": "8Aog9KlyMkO2",
    "outputId": "bffb6a7d-f4d3-454e-8591-bf7f3f376238"
   },
   "outputs": [
    {
     "data": {
      "text/html": [
       "<div>\n",
       "<style scoped>\n",
       "    .dataframe tbody tr th:only-of-type {\n",
       "        vertical-align: middle;\n",
       "    }\n",
       "\n",
       "    .dataframe tbody tr th {\n",
       "        vertical-align: top;\n",
       "    }\n",
       "\n",
       "    .dataframe thead tr th {\n",
       "        text-align: left;\n",
       "    }\n",
       "</style>\n",
       "<table border=\"1\" class=\"dataframe\">\n",
       "  <thead>\n",
       "    <tr>\n",
       "      <th>Product</th>\n",
       "      <th colspan=\"2\" halign=\"left\">Bank account or service</th>\n",
       "      <th>Checking or savings account</th>\n",
       "      <th colspan=\"2\" halign=\"left\">Consumer Loan</th>\n",
       "      <th colspan=\"2\" halign=\"left\">Credit card</th>\n",
       "      <th>Credit card or prepaid card</th>\n",
       "      <th colspan=\"2\" halign=\"left\">Credit reporting</th>\n",
       "      <th>Credit reporting, repair, or other</th>\n",
       "      <th colspan=\"3\" halign=\"left\">Debt collection</th>\n",
       "      <th>Money transfer, virtual currency, or money service</th>\n",
       "      <th colspan=\"2\" halign=\"left\">Money transfers</th>\n",
       "      <th colspan=\"3\" halign=\"left\">Mortgage</th>\n",
       "      <th colspan=\"2\" halign=\"left\">Other financial service</th>\n",
       "      <th colspan=\"2\" halign=\"left\">Payday loan</th>\n",
       "      <th>Payday loan, title loan, or personal loan</th>\n",
       "      <th colspan=\"2\" halign=\"left\">Prepaid card</th>\n",
       "      <th colspan=\"3\" halign=\"left\">Student loan</th>\n",
       "      <th>Vehicle loan or lease</th>\n",
       "      <th colspan=\"2\" halign=\"left\">Virtual currency</th>\n",
       "    </tr>\n",
       "    <tr>\n",
       "      <th>Consumer disputed?</th>\n",
       "      <th>No</th>\n",
       "      <th>Yes</th>\n",
       "      <th>NA</th>\n",
       "      <th>No</th>\n",
       "      <th>Yes</th>\n",
       "      <th>No</th>\n",
       "      <th>Yes</th>\n",
       "      <th>NA</th>\n",
       "      <th>No</th>\n",
       "      <th>Yes</th>\n",
       "      <th>NA</th>\n",
       "      <th>NA</th>\n",
       "      <th>No</th>\n",
       "      <th>Yes</th>\n",
       "      <th>NA</th>\n",
       "      <th>No</th>\n",
       "      <th>Yes</th>\n",
       "      <th>NA</th>\n",
       "      <th>No</th>\n",
       "      <th>Yes</th>\n",
       "      <th>No</th>\n",
       "      <th>Yes</th>\n",
       "      <th>No</th>\n",
       "      <th>Yes</th>\n",
       "      <th>NA</th>\n",
       "      <th>No</th>\n",
       "      <th>Yes</th>\n",
       "      <th>NA</th>\n",
       "      <th>No</th>\n",
       "      <th>Yes</th>\n",
       "      <th>NA</th>\n",
       "      <th>No</th>\n",
       "      <th>Yes</th>\n",
       "    </tr>\n",
       "  </thead>\n",
       "  <tbody>\n",
       "    <tr>\n",
       "      <th>Frequency</th>\n",
       "      <td>11668</td>\n",
       "      <td>3097</td>\n",
       "      <td>19976</td>\n",
       "      <td>7274</td>\n",
       "      <td>2188</td>\n",
       "      <td>14529</td>\n",
       "      <td>4244</td>\n",
       "      <td>33851</td>\n",
       "      <td>24788</td>\n",
       "      <td>6516</td>\n",
       "      <td>152961</td>\n",
       "      <td>69330</td>\n",
       "      <td>31858</td>\n",
       "      <td>8344</td>\n",
       "      <td>7615</td>\n",
       "      <td>1160</td>\n",
       "      <td>285</td>\n",
       "      <td>30052</td>\n",
       "      <td>24442</td>\n",
       "      <td>8287</td>\n",
       "      <td>225</td>\n",
       "      <td>64</td>\n",
       "      <td>1501</td>\n",
       "      <td>243</td>\n",
       "      <td>6717</td>\n",
       "      <td>1238</td>\n",
       "      <td>207</td>\n",
       "      <td>14290</td>\n",
       "      <td>8974</td>\n",
       "      <td>2127</td>\n",
       "      <td>8559</td>\n",
       "      <td>8</td>\n",
       "      <td>7</td>\n",
       "    </tr>\n",
       "  </tbody>\n",
       "</table>\n",
       "</div>"
      ],
      "text/plain": [
       "Product            Bank account or service       Checking or savings account  \\\n",
       "Consumer disputed?                      No   Yes                          NA   \n",
       "Frequency                            11668  3097                       19976   \n",
       "\n",
       "Product            Consumer Loan       Credit card        \\\n",
       "Consumer disputed?            No   Yes          No   Yes   \n",
       "Frequency                   7274  2188       14529  4244   \n",
       "\n",
       "Product            Credit card or prepaid card Credit reporting        \\\n",
       "Consumer disputed?                          NA               No   Yes   \n",
       "Frequency                                33851            24788  6516   \n",
       "\n",
       "Product            Credit reporting, repair, or other Debt collection         \\\n",
       "Consumer disputed?                                 NA              NA     No   \n",
       "Frequency                                      152961           69330  31858   \n",
       "\n",
       "Product                  Money transfer, virtual currency, or money service  \\\n",
       "Consumer disputed?   Yes                                                 NA   \n",
       "Frequency           8344                                               7615   \n",
       "\n",
       "Product            Money transfers      Mortgage               \\\n",
       "Consumer disputed?              No  Yes       NA     No   Yes   \n",
       "Frequency                     1160  285    30052  24442  8287   \n",
       "\n",
       "Product            Other financial service     Payday loan       \\\n",
       "Consumer disputed?                      No Yes          No  Yes   \n",
       "Frequency                              225  64        1501  243   \n",
       "\n",
       "Product            Payday loan, title loan, or personal loan Prepaid card  \\\n",
       "Consumer disputed?                                        NA           No   \n",
       "Frequency                                               6717         1238   \n",
       "\n",
       "Product                 Student loan             Vehicle loan or lease  \\\n",
       "Consumer disputed?  Yes           NA    No   Yes                    NA   \n",
       "Frequency           207        14290  8974  2127                  8559   \n",
       "\n",
       "Product            Virtual currency      \n",
       "Consumer disputed?               No Yes  \n",
       "Frequency                         8   7  "
      ]
     },
     "execution_count": 98,
     "metadata": {
      "tags": []
     },
     "output_type": "execute_result"
    }
   ],
   "source": [
    "dispute_frame = pd.DataFrame(data.groupby(by = ['Product', 'Consumer disputed?']).size(), columns = ['Frequency'])\n",
    "dispute_frame.transpose()"
   ]
  },
  {
   "cell_type": "code",
   "execution_count": null,
   "metadata": {
    "colab": {
     "base_uri": "https://localhost:8080/",
     "height": 762
    },
    "executionInfo": {
     "elapsed": 11232,
     "status": "ok",
     "timestamp": 1585634968074,
     "user": {
      "displayName": "Mukesh Kumar",
      "photoUrl": "https://lh3.googleusercontent.com/a-/AOh14GjlcDlZf8Lr8SWM0ugfq17HC9TF79sbME_lLaRW=s64",
      "userId": "12802686450045644565"
     },
     "user_tz": -330
    },
    "id": "-1j2M9h-DP4P",
    "outputId": "59a74277-2dbc-4be9-bd22-c5238bca34c5"
   },
   "outputs": [
    {
     "data": {
      "image/png": "[encoded data removed]",
      "text/plain": [
       "<Figure size 1080x576 with 1 Axes>"
      ]
     },
     "metadata": {
      "tags": []
     },
     "output_type": "display_data"
    }
   ],
   "source": [
    "figure = plt.figure(figsize = [15, 8])\n",
    "ax = sns.countplot(x = 'Product',  data = data, hue = 'Consumer disputed?')\n",
    "plt.xlabel('Product', size = 14)\n",
    "plt.xticks(rotation = 90)\n",
    "plt.ylabel('Frequency', size = 14)\n",
    "plt.yticks(range(0, 170000, 10000))\n",
    "plt.title('Dispute per Product', size = 16)\n",
    "plt.show()"
   ]
  },
  {
   "cell_type": "markdown",
   "metadata": {
    "id": "gy7W6HIiNaRV"
   },
   "source": [
    "**Observation:**\n",
    "\n",
    "- Based on the analysis, some customers disputed, some did not, and some did not provide any information regarding disputes.\n",
    "\n",
    "For the product \"Credit reporting, repair, or other\", the majority of records indicate no information was provided about dispute status.\n",
    "\n",
    "Remaining patterns are interpretable from the corresponding graph.\n",
    "\n"
   ]
  },
  {
   "cell_type": "markdown",
   "metadata": {
    "id": "dUe-vr5Gpdx7"
   },
   "source": [
    "<a id = Section7></a>\n",
    "# **7. Post Data Processing & Feature Selection**"
   ]
  },
  {
   "cell_type": "markdown",
   "metadata": {
    "id": "Ft-Rh2Z2Dqsh"
   },
   "source": [
    "The primary objective is to build a model; however, data preparation is essential to ensure compatibility with modeling requirements.\n",
    "\n",
    "Since the data involves textual information, cleaning is necessary before transforming it into numerical representations such as large vectors or Bag of Words.\n",
    "\n",
    "As the key features for modeling are Product and Consumer Complaint Narrative, only these features will be retained for post-cleaning analysis and modeling.\n",
    "\n"
   ]
  },
  {
   "cell_type": "code",
   "execution_count": null,
   "metadata": {
    "colab": {
     "base_uri": "https://localhost:8080/",
     "height": 221
    },
    "executionInfo": {
     "elapsed": 1601,
     "status": "ok",
     "timestamp": 1585645408180,
     "user": {
      "displayName": "Mukesh Kumar",
      "photoUrl": "https://lh3.googleusercontent.com/a-/AOh14GjlcDlZf8Lr8SWM0ugfq17HC9TF79sbME_lLaRW=s64",
      "userId": "12802686450045644565"
     },
     "user_tz": -330
    },
    "id": "GZq5ZmF7pa0O",
    "outputId": "93397131-7d8e-4472-8748-cc227b173b70"
   },
   "outputs": [
    {
     "name": "stdout",
     "output_type": "stream",
     "text": [
      "Data Shape: (507049, 2)\n"
     ]
    },
    {
     "data": {
      "text/html": [
       "<div>\n",
       "<style scoped>\n",
       "    .dataframe tbody tr th:only-of-type {\n",
       "        vertical-align: middle;\n",
       "    }\n",
       "\n",
       "    .dataframe tbody tr th {\n",
       "        vertical-align: top;\n",
       "    }\n",
       "\n",
       "    .dataframe thead th {\n",
       "        text-align: right;\n",
       "    }\n",
       "</style>\n",
       "<table border=\"1\" class=\"dataframe\">\n",
       "  <thead>\n",
       "    <tr style=\"text-align: right;\">\n",
       "      <th></th>\n",
       "      <th>Product</th>\n",
       "      <th>Consumer complaint narrative</th>\n",
       "    </tr>\n",
       "  </thead>\n",
       "  <tbody>\n",
       "    <tr>\n",
       "      <th>0</th>\n",
       "      <td>Debt collection</td>\n",
       "      <td>transworld systems inc. \\nis trying to collect...</td>\n",
       "    </tr>\n",
       "    <tr>\n",
       "      <th>1</th>\n",
       "      <td>Credit reporting, repair, or other</td>\n",
       "      <td>I would like to request the suppression of the...</td>\n",
       "    </tr>\n",
       "    <tr>\n",
       "      <th>2</th>\n",
       "      <td>Debt collection</td>\n",
       "      <td>Over the past 2 weeks, I have been receiving e...</td>\n",
       "    </tr>\n",
       "    <tr>\n",
       "      <th>3</th>\n",
       "      <td>Money transfer, virtual currency, or money ser...</td>\n",
       "      <td>I was sold access to an event digitally, of wh...</td>\n",
       "    </tr>\n",
       "    <tr>\n",
       "      <th>4</th>\n",
       "      <td>Debt collection</td>\n",
       "      <td>While checking my credit report I noticed thre...</td>\n",
       "    </tr>\n",
       "  </tbody>\n",
       "</table>\n",
       "</div>"
      ],
      "text/plain": [
       "                                             Product  \\\n",
       "0                                    Debt collection   \n",
       "1                 Credit reporting, repair, or other   \n",
       "2                                    Debt collection   \n",
       "3  Money transfer, virtual currency, or money ser...   \n",
       "4                                    Debt collection   \n",
       "\n",
       "                        Consumer complaint narrative  \n",
       "0  transworld systems inc. \\nis trying to collect...  \n",
       "1  I would like to request the suppression of the...  \n",
       "2  Over the past 2 weeks, I have been receiving e...  \n",
       "3  I was sold access to an event digitally, of wh...  \n",
       "4  While checking my credit report I noticed thre...  "
      ]
     },
     "execution_count": 37,
     "metadata": {
      "tags": []
     },
     "output_type": "execute_result"
    }
   ],
   "source": [
    "data = data[['Product', 'Consumer complaint narrative']]\n",
    "data.reset_index(drop = True, inplace=True)\n",
    "print('Data Shape:', data.shape)\n",
    "data.head()"
   ]
  },
  {
   "cell_type": "markdown",
   "metadata": {
    "id": "zLCz06k8qocD"
   },
   "source": [
    "### **Text Cleaning**\n",
    "\n",
    "- In the Consumer Complaint Narrative feature, the text must be cleaned prior to model ingestion. This involves removing stopwords, eliminating punctuation, and converting all words to lowercase.\n",
    "\n",
    "A  function will be created to clean and preprocess the raw text effectively.\n",
    "\n"
   ]
  },
  {
   "cell_type": "code",
   "execution_count": null,
   "metadata": {
    "id": "nLngP7JEqg8W"
   },
   "outputs": [],
   "source": [
    "stop_words = stopwords.words('english')\n",
    "def clean_text(text):\n",
    "  '''\n",
    "  A function to clean the text.\n",
    "  '''\n",
    "  no_punc = [s for s in text if s not in string.punctuation]\n",
    "  no_punc = ' '.join(no_punc)\n",
    "  rm_words = [w for w in no_punc.split() if w.lower() not in stop_words]\n",
    "  return ' '.join(rm_words)"
   ]
  },
  {
   "cell_type": "code",
   "execution_count": null,
   "metadata": {
    "colab": {
     "base_uri": "https://localhost:8080/",
     "height": 238
    },
    "executionInfo": {
     "elapsed": 177820,
     "status": "ok",
     "timestamp": 1585645595048,
     "user": {
      "displayName": "Mukesh Kumar",
      "photoUrl": "https://lh3.googleusercontent.com/a-/AOh14GjlcDlZf8Lr8SWM0ugfq17HC9TF79sbME_lLaRW=s64",
      "userId": "12802686450045644565"
     },
     "user_tz": -330
    },
    "id": "wv5s513nqlMM",
    "outputId": "ce446d86-3b62-42c7-dd11-c224943575d3"
   },
   "outputs": [
    {
     "name": "stdout",
     "output_type": "stream",
     "text": [
      "Data Shape: (507049, 2)\n",
      "Text Cleaning Accomplished!\n"
     ]
    },
    {
     "data": {
      "text/html": [
       "<div>\n",
       "<style scoped>\n",
       "    .dataframe tbody tr th:only-of-type {\n",
       "        vertical-align: middle;\n",
       "    }\n",
       "\n",
       "    .dataframe tbody tr th {\n",
       "        vertical-align: top;\n",
       "    }\n",
       "\n",
       "    .dataframe thead th {\n",
       "        text-align: right;\n",
       "    }\n",
       "</style>\n",
       "<table border=\"1\" class=\"dataframe\">\n",
       "  <thead>\n",
       "    <tr style=\"text-align: right;\">\n",
       "      <th></th>\n",
       "      <th>Product</th>\n",
       "      <th>Consumer complaint narrative</th>\n",
       "    </tr>\n",
       "  </thead>\n",
       "  <tbody>\n",
       "    <tr>\n",
       "      <th>0</th>\n",
       "      <td>Debt collection</td>\n",
       "      <td>transworld systems inc trying collect debt min...</td>\n",
       "    </tr>\n",
       "    <tr>\n",
       "      <th>1</th>\n",
       "      <td>Credit reporting, repair, or other</td>\n",
       "      <td>would like request suppression following items...</td>\n",
       "    </tr>\n",
       "    <tr>\n",
       "      <th>2</th>\n",
       "      <td>Debt collection</td>\n",
       "      <td>past 2 weeks receiving excessive amounts telep...</td>\n",
       "    </tr>\n",
       "    <tr>\n",
       "      <th>3</th>\n",
       "      <td>Money transfer, virtual currency, or money ser...</td>\n",
       "      <td>sold access event digitally screenshots detail...</td>\n",
       "    </tr>\n",
       "    <tr>\n",
       "      <th>4</th>\n",
       "      <td>Debt collection</td>\n",
       "      <td>checking credit report noticed three collectio...</td>\n",
       "    </tr>\n",
       "  </tbody>\n",
       "</table>\n",
       "</div>"
      ],
      "text/plain": [
       "                                             Product  \\\n",
       "0                                    Debt collection   \n",
       "1                 Credit reporting, repair, or other   \n",
       "2                                    Debt collection   \n",
       "3  Money transfer, virtual currency, or money ser...   \n",
       "4                                    Debt collection   \n",
       "\n",
       "                        Consumer complaint narrative  \n",
       "0  transworld systems inc trying collect debt min...  \n",
       "1  would like request suppression following items...  \n",
       "2  past 2 weeks receiving excessive amounts telep...  \n",
       "3  sold access event digitally screenshots detail...  \n",
       "4  checking credit report noticed three collectio...  "
      ]
     },
     "execution_count": 39,
     "metadata": {
      "tags": []
     },
     "output_type": "execute_result"
    }
   ],
   "source": [
    "# Have some patience, might take some time \n",
    "data['Consumer complaint narrative'] = data['Consumer complaint narrative'].apply(clean_text)\n",
    "print('Data Shape:', data.shape)\n",
    "print('Text Cleaning Accomplished!')\n",
    "data.head()"
   ]
  },
  {
   "cell_type": "markdown",
   "metadata": {
    "id": "MmnoEKQePg7O"
   },
   "source": [
    "A new feature will be created to help identify each product category effectively for downstream modeling tasks.\n",
    "\n"
   ]
  },
  {
   "cell_type": "code",
   "execution_count": null,
   "metadata": {
    "colab": {
     "base_uri": "https://localhost:8080/",
     "height": 221
    },
    "executionInfo": {
     "elapsed": 2410,
     "status": "ok",
     "timestamp": 1585645613589,
     "user": {
      "displayName": "Mukesh Kumar",
      "photoUrl": "https://lh3.googleusercontent.com/a-/AOh14GjlcDlZf8Lr8SWM0ugfq17HC9TF79sbME_lLaRW=s64",
      "userId": "12802686450045644565"
     },
     "user_tz": -330
    },
    "id": "PKltpYSZuY5h",
    "outputId": "4600148d-309f-489e-a922-a8bafbf10503"
   },
   "outputs": [
    {
     "name": "stdout",
     "output_type": "stream",
     "text": [
      "Data Shape: (507049, 3)\n"
     ]
    },
    {
     "data": {
      "text/html": [
       "<div>\n",
       "<style scoped>\n",
       "    .dataframe tbody tr th:only-of-type {\n",
       "        vertical-align: middle;\n",
       "    }\n",
       "\n",
       "    .dataframe tbody tr th {\n",
       "        vertical-align: top;\n",
       "    }\n",
       "\n",
       "    .dataframe thead th {\n",
       "        text-align: right;\n",
       "    }\n",
       "</style>\n",
       "<table border=\"1\" class=\"dataframe\">\n",
       "  <thead>\n",
       "    <tr style=\"text-align: right;\">\n",
       "      <th></th>\n",
       "      <th>Product</th>\n",
       "      <th>Consumer complaint narrative</th>\n",
       "      <th>Category id</th>\n",
       "    </tr>\n",
       "  </thead>\n",
       "  <tbody>\n",
       "    <tr>\n",
       "      <th>0</th>\n",
       "      <td>Debt collection</td>\n",
       "      <td>transworld systems inc trying collect debt min...</td>\n",
       "      <td>0</td>\n",
       "    </tr>\n",
       "    <tr>\n",
       "      <th>1</th>\n",
       "      <td>Credit reporting, repair, or other</td>\n",
       "      <td>would like request suppression following items...</td>\n",
       "      <td>1</td>\n",
       "    </tr>\n",
       "    <tr>\n",
       "      <th>2</th>\n",
       "      <td>Debt collection</td>\n",
       "      <td>past 2 weeks receiving excessive amounts telep...</td>\n",
       "      <td>0</td>\n",
       "    </tr>\n",
       "    <tr>\n",
       "      <th>3</th>\n",
       "      <td>Money transfer, virtual currency, or money ser...</td>\n",
       "      <td>sold access event digitally screenshots detail...</td>\n",
       "      <td>2</td>\n",
       "    </tr>\n",
       "    <tr>\n",
       "      <th>4</th>\n",
       "      <td>Debt collection</td>\n",
       "      <td>checking credit report noticed three collectio...</td>\n",
       "      <td>0</td>\n",
       "    </tr>\n",
       "  </tbody>\n",
       "</table>\n",
       "</div>"
      ],
      "text/plain": [
       "                                             Product  \\\n",
       "0                                    Debt collection   \n",
       "1                 Credit reporting, repair, or other   \n",
       "2                                    Debt collection   \n",
       "3  Money transfer, virtual currency, or money ser...   \n",
       "4                                    Debt collection   \n",
       "\n",
       "                        Consumer complaint narrative  Category id  \n",
       "0  transworld systems inc trying collect debt min...            0  \n",
       "1  would like request suppression following items...            1  \n",
       "2  past 2 weeks receiving excessive amounts telep...            0  \n",
       "3  sold access event digitally screenshots detail...            2  \n",
       "4  checking credit report noticed three collectio...            0  "
      ]
     },
     "execution_count": 40,
     "metadata": {
      "tags": []
     },
     "output_type": "execute_result"
    }
   ],
   "source": [
    "# Mapping Product to numerical target in new feature\n",
    "data['Category id'] = data['Product'].factorize()[0]\n",
    "print('Data Shape:', data.shape)\n",
    "data.head()"
   ]
  },
  {
   "cell_type": "markdown",
   "metadata": {
    "id": "roJRPEtwQR15"
   },
   "source": [
    "A vector will be created for each complaint capturing the frequency of word occurrences using CountVectorizer().\n",
    "\n",
    "The following example illustrates the intended approach:"
   ]
  },
  {
   "cell_type": "markdown",
   "metadata": {
    "id": "gAplSqYoU19S"
   },
   "source": [
    "**<center>Data Before Applying Count Vectorizer</center>**\n",
    "<center><img src=\"https://raw.githubusercontent.com/insaid2018/Domain_Case_Studies/master/Finance/Count_vectorizer_example1.PNG\"></center>\n",
    "\n",
    "**<center>Data After Applying Count Vectorizer</center>**\n",
    "<center><img src = \"https://raw.githubusercontent.com/insaid2018/Domain_Case_Studies/master/Finance/Count_vectorizer_example2.PNG\"></center>"
   ]
  },
  {
   "cell_type": "code",
   "execution_count": null,
   "metadata": {
    "colab": {
     "base_uri": "https://localhost:8080/",
     "height": 34
    },
    "executionInfo": {
     "elapsed": 59210,
     "status": "ok",
     "timestamp": 1585645673894,
     "user": {
      "displayName": "Mukesh Kumar",
      "photoUrl": "https://lh3.googleusercontent.com/a-/AOh14GjlcDlZf8Lr8SWM0ugfq17HC9TF79sbME_lLaRW=s64",
      "userId": "12802686450045644565"
     },
     "user_tz": -330
    },
    "id": "1heanleusARg",
    "outputId": "fc762521-f0ff-4fcd-bf92-70b37bce61ed"
   },
   "outputs": [
    {
     "name": "stdout",
     "output_type": "stream",
     "text": [
      "Final Data Shape: (507049, 197268)\n"
     ]
    }
   ],
   "source": [
    "# Have some patience, might take some time :)\n",
    "bag_of_words = CountVectorizer()\n",
    "bag_of_words.fit(data['Consumer complaint narrative'])\n",
    "input_text = bag_of_words.transform(data['Consumer complaint narrative'])\n",
    "print('Final Data Shape:',input_text.shape)"
   ]
  },
  {
   "cell_type": "markdown",
   "metadata": {
    "id": "AQSGA_llvRrr"
   },
   "source": [
    "Now that the input is mapped to vectors, the data is ready for model building.\n",
    "\n",
    "The next step involves splitting the data into training and testing sets.\n",
    "\n"
   ]
  },
  {
   "cell_type": "code",
   "execution_count": null,
   "metadata": {
    "colab": {
     "base_uri": "https://localhost:8080/",
     "height": 85
    },
    "executionInfo": {
     "elapsed": 1381,
     "status": "ok",
     "timestamp": 1585645718972,
     "user": {
      "displayName": "Mukesh Kumar",
      "photoUrl": "https://lh3.googleusercontent.com/a-/AOh14GjlcDlZf8Lr8SWM0ugfq17HC9TF79sbME_lLaRW=s64",
      "userId": "12802686450045644565"
     },
     "user_tz": -330
    },
    "id": "gDCdQmiGvQyl",
    "outputId": "7c13f1d3-fe60-4466-8ee5-1f2cfd975b8b"
   },
   "outputs": [
    {
     "name": "stdout",
     "output_type": "stream",
     "text": [
      "X_train Shape: (405639, 197268)\n",
      "y_train Shape: (405639,)\n",
      "X_test Shape: (101410, 197268)\n",
      "y_test Shape: (101410,)\n"
     ]
    }
   ],
   "source": [
    "X_train, X_test, y_train, y_test = train_test_split(input_text, data['Category id'], test_size = 0.2, random_state = 42)\n",
    "print('X_train Shape:', X_train.shape)\n",
    "print('y_train Shape:', y_train.shape)\n",
    "print('X_test Shape:', X_test.shape)\n",
    "print('y_test Shape:', y_test.shape)"
   ]
  },
  {
   "cell_type": "markdown",
   "metadata": {
    "id": "c_a3bMlEvsTP"
   },
   "source": [
    "<a id = Section8></a>\n",
    "# **8. Model Development & Evaluation**"
   ]
  },
  {
   "cell_type": "markdown",
   "metadata": {
    "id": "v5IGEu0sU6g9"
   },
   "source": [
    "Since the data is imbalanced, a Precision-Recall Curve will be plotted to evaluate performance.\n",
    "\n",
    "Below is a custom function designed to assist in evaluating model performance.\n",
    "\n"
   ]
  },
  {
   "cell_type": "markdown",
   "metadata": {
    "id": "SMZ90HA2K3kx"
   },
   "source": [
    "<a id = Section81></a>\n",
    "## **8.1 Baseline Models**"
   ]
  },
  {
   "cell_type": "markdown",
   "metadata": {
    "id": "gcihrP4fbbgs"
   },
   "source": [
    "<a id = Section811></a>\n",
    "#### **8.1.1 Random Forest Classifier**"
   ]
  },
  {
   "cell_type": "code",
   "execution_count": null,
   "metadata": {
    "colab": {
     "base_uri": "https://localhost:8080/",
     "height": 978
    },
    "executionInfo": {
     "elapsed": 932013,
     "status": "ok",
     "timestamp": 1585639634271,
     "user": {
      "displayName": "Mukesh Kumar",
      "photoUrl": "https://lh3.googleusercontent.com/a-/AOh14GjlcDlZf8Lr8SWM0ugfq17HC9TF79sbME_lLaRW=s64",
      "userId": "12802686450045644565"
     },
     "user_tz": -330
    },
    "id": "IDygzXUsbdV3",
    "outputId": "e83d7d6d-9296-4276-90e0-b2b8e6903747"
   },
   "outputs": [
    {
     "name": "stdout",
     "output_type": "stream",
     "text": [
      "Accuracy Score (Train Data): 0.31\n",
      "Accuracy Score (Test Data): 0.308\n",
      "              precision    recall  f1-score   support\n",
      "\n",
      "           0       0.92      0.01      0.01     21953\n",
      "           1       0.30      1.00      0.47     30507\n",
      "           2       0.00      0.00      0.00      1523\n",
      "           3       0.95      0.05      0.09     12534\n",
      "           4       0.00      0.00      0.00      5028\n",
      "           5       0.00      0.00      0.00      1688\n",
      "           6       0.00      0.00      0.00      4092\n",
      "           7       0.00      0.00      0.00      6686\n",
      "           8       0.00      0.00      0.00      3757\n",
      "           9       0.00      0.00      0.00      1295\n",
      "          10       0.00      0.00      0.00      1912\n",
      "          11       0.00      0.00      0.00       353\n",
      "          12       0.00      0.00      0.00      3010\n",
      "          13       0.00      0.00      0.00      6339\n",
      "          14       0.00      0.00      0.00       269\n",
      "          15       0.00      0.00      0.00        59\n",
      "          16       0.00      0.00      0.00       313\n",
      "          17       0.00      0.00      0.00         7\n",
      "\n",
      "    accuracy                           0.31    101325\n",
      "   macro avg       0.12      0.06      0.03    101325\n",
      "weighted avg       0.41      0.31      0.15    101325\n",
      "\n"
     ]
    },
    {
     "data": {
      "image/png": "[encoded data removed]",
      "text/plain": [
       "<Figure size 720x576 with 1 Axes>"
      ]
     },
     "metadata": {
      "tags": []
     },
     "output_type": "display_data"
    }
   ],
   "source": [
    "# Have some patience, might take some time :)\n",
    "rfc = RandomForestClassifier(n_estimators = 100, max_depth = 5, random_state = 42, n_jobs = -1)\n",
    "rfc.fit(X_train, y_train)\n",
    "\n",
    "y_pred = rfc.predict(X_test)\n",
    "\n",
    "# Accuracy Estimation\n",
    "print('Accuracy Score (Train Data):', np.round(rfc.score(X_train, y_train), decimals = 3))\n",
    "print('Accuracy Score (Test Data):', np.round(rfc.score(X_test, y_test), decimals = 3))\n",
    "\n",
    "# Classification Report\n",
    "random_forest_report = classification_report(y_test, y_pred)\n",
    "print(random_forest_report)"
   ]
  },
  {
   "cell_type": "markdown",
   "metadata": {
    "id": "nYWfuqfoPl1A"
   },
   "source": [
    "**Observation:**\n",
    "\n",
    "The initial model performed poorly, achieving an accuracy of 31% and an average precision of 39%.\n",
    "\n",
    "One possible reason for low performance could be undersampling of the data.\n",
    "\n",
    "The next step involves evaluating the performance of the Multinomial Naive Bayes classifier."
   ]
  },
  {
   "cell_type": "markdown",
   "metadata": {
    "id": "W8PnPMzYZ7Bd"
   },
   "source": [
    "<a id = Section81></a>\n",
    "#### **8.1.2 Multinomial Naive Bayes**"
   ]
  },
  {
   "cell_type": "code",
   "execution_count": null,
   "metadata": {
    "colab": {
     "base_uri": "https://localhost:8080/",
     "height": 978
    },
    "executionInfo": {
     "elapsed": 11722,
     "status": "ok",
     "timestamp": 1585638390150,
     "user": {
      "displayName": "Mukesh Kumar",
      "photoUrl": "https://lh3.googleusercontent.com/a-/AOh14GjlcDlZf8Lr8SWM0ugfq17HC9TF79sbME_lLaRW=s64",
      "userId": "12802686450045644565"
     },
     "user_tz": -330
    },
    "id": "RhFqSzmcZ-3Q",
    "outputId": "e785349d-ab5b-443c-d56e-c7993b0acac4"
   },
   "outputs": [
    {
     "name": "stdout",
     "output_type": "stream",
     "text": [
      "Accuracy Score (Train Data): 0.741\n",
      "Accuracy Score (Test Data): 0.722\n",
      "              precision    recall  f1-score   support\n",
      "\n",
      "           0       0.80      0.79      0.80     21953\n",
      "           1       0.76      0.78      0.77     30507\n",
      "           2       0.70      0.59      0.64      1523\n",
      "           3       0.86      0.94      0.90     12534\n",
      "           4       0.72      0.89      0.80      5028\n",
      "           5       0.46      0.59      0.52      1688\n",
      "           6       0.57      0.79      0.66      4092\n",
      "           7       0.52      0.77      0.62      6686\n",
      "           8       0.58      0.34      0.43      3757\n",
      "           9       0.56      0.22      0.31      1295\n",
      "          10       0.55      0.22      0.31      1912\n",
      "          11       0.00      0.00      0.00       353\n",
      "          12       0.63      0.38      0.48      3010\n",
      "          13       0.57      0.39      0.46      6339\n",
      "          14       0.00      0.00      0.00       269\n",
      "          15       0.00      0.00      0.00        59\n",
      "          16       0.00      0.00      0.00       313\n",
      "          17       0.00      0.00      0.00         7\n",
      "\n",
      "    accuracy                           0.72    101325\n",
      "   macro avg       0.46      0.43      0.43    101325\n",
      "weighted avg       0.71      0.72      0.71    101325\n",
      "\n"
     ]
    },
    {
     "data": {
      "image/png": "[encoded data removed]",
      "text/plain": [
       "<Figure size 720x576 with 1 Axes>"
      ]
     },
     "metadata": {
      "tags": []
     },
     "output_type": "display_data"
    }
   ],
   "source": [
    "# Have some patience, might take some time :)\n",
    "mnc  = MultinomialNB()\n",
    "mnc.fit(X_train, y_train)\n",
    "y_pred = mnc.predict(X_test)\n",
    "\n",
    "# Accuracy Estimation\n",
    "print('Accuracy Score (Train Data):', np.round(mnc.score(X_train, y_train), decimals = 3))\n",
    "print('Accuracy Score (Test Data):', np.round(mnc.score(X_test, y_test), decimals = 3))\n",
    "\n",
    "# Classification Report\n",
    "mnc_report = classification_report(y_test, y_pred)\n",
    "print(mnc_report)"
   ]
  },
  {
   "cell_type": "markdown",
   "metadata": {
    "id": "M8Kno2F8QMkg"
   },
   "source": [
    "**Observation:**\n",
    "\n",
    "Improvement is observed compared to the previous model.\n",
    "\n",
    "The accuracy has increased to 72%.\n",
    "\n",
    "The average precision score has also improved to 61%, but it still requires further enhancement.\n",
    "\n",
    "Next, the performance of Logistic Regression will be evaluated on this data.\n",
    "\n"
   ]
  },
  {
   "cell_type": "markdown",
   "metadata": {
    "id": "B6HC_dMQXMVF"
   },
   "source": [
    "<a id = Section813></a>\n",
    "#### **8.1.3 Logisitic Regression**"
   ]
  },
  {
   "cell_type": "code",
   "execution_count": null,
   "metadata": {
    "colab": {
     "base_uri": "https://localhost:8080/",
     "height": 978
    },
    "executionInfo": {
     "elapsed": 659397,
     "status": "ok",
     "timestamp": 1585638237398,
     "user": {
      "displayName": "Mukesh Kumar",
      "photoUrl": "https://lh3.googleusercontent.com/a-/AOh14GjlcDlZf8Lr8SWM0ugfq17HC9TF79sbME_lLaRW=s64",
      "userId": "12802686450045644565"
     },
     "user_tz": -330
    },
    "id": "JyVmItfYXPmw",
    "outputId": "1a2be0fa-164c-4cd8-c071-df60fa7ca816"
   },
   "outputs": [
    {
     "name": "stdout",
     "output_type": "stream",
     "text": [
      "Accuracy Score (Train Data): 0.74\n",
      "Accuracy Score (Test Data): 0.731\n",
      "              precision    recall  f1-score   support\n",
      "\n",
      "           0       0.74      0.84      0.79     21953\n",
      "           1       0.72      0.85      0.78     30507\n",
      "           2       0.67      0.57      0.61      1523\n",
      "           3       0.89      0.90      0.90     12534\n",
      "           4       0.86      0.78      0.82      5028\n",
      "           5       0.57      0.37      0.45      1688\n",
      "           6       0.65      0.69      0.67      4092\n",
      "           7       0.66      0.65      0.65      6686\n",
      "           8       0.61      0.42      0.50      3757\n",
      "           9       0.52      0.28      0.36      1295\n",
      "          10       0.51      0.28      0.36      1912\n",
      "          11       0.43      0.06      0.11       353\n",
      "          12       0.63      0.48      0.54      3010\n",
      "          13       0.63      0.25      0.36      6339\n",
      "          14       0.54      0.26      0.35       269\n",
      "          15       0.20      0.02      0.03        59\n",
      "          16       0.40      0.19      0.26       313\n",
      "          17       0.00      0.00      0.00         7\n",
      "\n",
      "    accuracy                           0.73    101325\n",
      "   macro avg       0.57      0.44      0.47    101325\n",
      "weighted avg       0.72      0.73      0.71    101325\n",
      "\n"
     ]
    },
    {
     "data": {
      "image/png": "[encoded data removed]",
      "text/plain": [
       "<Figure size 720x576 with 1 Axes>"
      ]
     },
     "metadata": {
      "tags": []
     },
     "output_type": "display_data"
    }
   ],
   "source": [
    "# Have some patience, might take some time :)\n",
    "log  = LogisticRegression(random_state = 42)\n",
    "log.fit(X_train, y_train)\n",
    "y_pred = log.predict(X_test)\n",
    "\n",
    "# Accuracy Estimation\n",
    "print('Accuracy Score (Train Data):', np.round(log.score(X_train, y_train), decimals = 3))\n",
    "print('Accuracy Score (Test Data):', np.round(log.score(X_test, y_test), decimals = 3))\n",
    "\n",
    "# Classification Report\n",
    "logistic_report = classification_report(y_test, y_pred)\n",
    "print(logistic_report)"
   ]
  },
  {
   "cell_type": "markdown",
   "metadata": {
    "id": "0hFaxibmQxGv"
   },
   "source": [
    "A slight improvement is observed over the Multinomial Naive Bayes model.\n",
    "\n",
    "The accuracy has slightly improved to 73%.\n",
    "\n",
    "The average precision score has also seen an improvement to 77%.\n",
    "\n",
    "This improvement is still limited due to the undersampling of minority classes.\n",
    "\n",
    "In the next section, SMOTE (Synthetic Minority Over-sampling Technique) will be applied to the minority class to evaluate any changes in model performance.\n",
    "\n"
   ]
  },
  {
   "cell_type": "markdown",
   "metadata": {
    "id": "okZU5D3s-7Ma"
   },
   "source": [
    "<a id = Section82></a>\n",
    "## **8.2 Oversampling Models**"
   ]
  },
  {
   "cell_type": "markdown",
   "metadata": {
    "id": "FX_-MF-BLkHN"
   },
   "source": [
    "### **SMOTE & its Implementation**\n",
    "SMOTE aims to balance class distribution by increasing the number of minority class examples through synthetic data generation.\n",
    "\n",
    "It works by synthesizing new instances between existing minority instances using linear interpolation.\n",
    "\n",
    "SMOTE randomly selects one or more of the k-nearest neighbors for each example in the minority class to create these synthetic examples.\n",
    "\n",
    "After the oversampling process, the data is reconstructed, and classification models can be applied to the balanced data."
   ]
  },
  {
   "cell_type": "code",
   "execution_count": null,
   "metadata": {
    "colab": {
     "base_uri": "https://localhost:8080/",
     "height": 51
    },
    "executionInfo": {
     "elapsed": 1565,
     "status": "ok",
     "timestamp": 1585649595932,
     "user": {
      "displayName": "Mukesh Kumar",
      "photoUrl": "https://lh3.googleusercontent.com/a-/AOh14GjlcDlZf8Lr8SWM0ugfq17HC9TF79sbME_lLaRW=s64",
      "userId": "12802686450045644565"
     },
     "user_tz": -330
    },
    "id": "c03c4ddt-9wx",
    "outputId": "9262018a-81c6-4664-921b-968c72164c79"
   },
   "outputs": [
    {
     "name": "stdout",
     "output_type": "stream",
     "text": [
      "X Shape: (660184, 197268)\n",
      "y Shape: (660184,)\n"
     ]
    }
   ],
   "source": [
    "# Have some patience, may take some time :)\n",
    "sm = SMOTE(sampling_strategy = 'minority', random_state = 42, n_jobs = -1)\n",
    "X, y = sm.fit_sample(input_text, data['Category id'])\n",
    "print('X Shape:', X.shape)\n",
    "print('y Shape:', y.shape)"
   ]
  },
  {
   "cell_type": "code",
   "execution_count": null,
   "metadata": {
    "colab": {
     "base_uri": "https://localhost:8080/",
     "height": 85
    },
    "executionInfo": {
     "elapsed": 2665,
     "status": "ok",
     "timestamp": 1585649642481,
     "user": {
      "displayName": "Mukesh Kumar",
      "photoUrl": "https://lh3.googleusercontent.com/a-/AOh14GjlcDlZf8Lr8SWM0ugfq17HC9TF79sbME_lLaRW=s64",
      "userId": "12802686450045644565"
     },
     "user_tz": -330
    },
    "id": "gKj7MznUE-ma",
    "outputId": "b7257783-538b-4070-b0b3-16283d23cec4"
   },
   "outputs": [
    {
     "name": "stdout",
     "output_type": "stream",
     "text": [
      "X_train Shape: (528147, 197268)\n",
      "y_train Shape: (528147,)\n",
      "X_test Shape: (132037, 197268)\n",
      "y_test Shape: (132037,)\n"
     ]
    }
   ],
   "source": [
    "X_train, X_test, y_train, y_test = train_test_split(X, y, test_size = 0.2, random_state = 42, stratify = y)\n",
    "print('X_train Shape:', X_train.shape)\n",
    "print('y_train Shape:', y_train.shape)\n",
    "print('X_test Shape:', X_test.shape)\n",
    "print('y_test Shape:', y_test.shape)"
   ]
  },
  {
   "cell_type": "markdown",
   "metadata": {
    "id": "aKUehz0NJGK3"
   },
   "source": [
    "<a id = Section821></a>\n",
    "#### **8.2.1 Random Forest Classifier**"
   ]
  },
  {
   "cell_type": "code",
   "execution_count": null,
   "metadata": {
    "colab": {
     "base_uri": "https://localhost:8080/",
     "height": 978
    },
    "executionInfo": {
     "elapsed": 1189171,
     "status": "ok",
     "timestamp": 1585651844079,
     "user": {
      "displayName": "Mukesh Kumar",
      "photoUrl": "https://lh3.googleusercontent.com/a-/AOh14GjlcDlZf8Lr8SWM0ugfq17HC9TF79sbME_lLaRW=s64",
      "userId": "12802686450045644565"
     },
     "user_tz": -330
    },
    "id": "DlR7LHI0JGkZ",
    "outputId": "624b04d0-4579-49de-97ac-8c6dfe63ae38"
   },
   "outputs": [
    {
     "name": "stdout",
     "output_type": "stream",
     "text": [
      "Accuracy Score (Train Data): 0.428\n",
      "Accuracy Score (Test Data): 0.427\n",
      "              precision    recall  f1-score   support\n",
      "\n",
      "           0       0.92      0.01      0.02     21925\n",
      "           1       0.33      0.82      0.47     30630\n",
      "           2       0.00      0.00      0.00      1523\n",
      "           3       0.93      0.05      0.09     12566\n",
      "           4       0.00      0.00      0.00      5080\n",
      "           5       0.00      0.00      0.00      1714\n",
      "           6       0.00      0.00      0.00      3998\n",
      "           7       0.00      0.00      0.00      6781\n",
      "           8       0.00      0.00      0.00      3755\n",
      "           9       0.00      0.00      0.00      1344\n",
      "          10       0.00      0.00      0.00      1892\n",
      "          11       0.00      0.00      0.00       349\n",
      "          12       0.00      0.00      0.00      2953\n",
      "          13       0.00      0.00      0.00      6261\n",
      "          14       0.00      0.00      0.00        58\n",
      "          15       0.00      0.00      0.00       289\n",
      "          16       0.00      0.00      0.00       289\n",
      "          17       0.56      1.00      0.72     30630\n",
      "\n",
      "    accuracy                           0.43    132037\n",
      "   macro avg       0.15      0.10      0.07    132037\n",
      "weighted avg       0.45      0.43      0.29    132037\n",
      "\n"
     ]
    },
    {
     "data": {
      "image/png": "[encoded data removed]",
      "text/plain": [
       "<Figure size 720x576 with 1 Axes>"
      ]
     },
     "metadata": {
      "tags": []
     },
     "output_type": "display_data"
    }
   ],
   "source": [
    "# Have some patience, might take some time :)\n",
    "rfc = RandomForestClassifier(n_estimators = 100, max_depth = 5, random_state = 42, n_jobs = -1)\n",
    "rfc.fit(X_train, y_train)\n",
    "\n",
    "y_pred = rfc.predict(X_test)\n",
    "\n",
    "# Accuracy Estimation\n",
    "print('Accuracy Score (Train Data):', np.round(rfc.score(X_train, y_train), decimals = 3))\n",
    "print('Accuracy Score (Test Data):', np.round(rfc.score(X_test, y_test), decimals = 3))\n",
    "\n",
    "# Classification Report\n",
    "random_forest_report = classification_report(y_test, y_pred)\n",
    "print(random_forest_report)"
   ]
  },
  {
   "cell_type": "markdown",
   "metadata": {
    "id": "MuOtfdEdRaq4"
   },
   "source": [
    "**Observation:**\n",
    "\n",
    "- there is a slight improvement compared to the previous Random Forest model.\n",
    "\n",
    "However, the results are still not much better.\n",
    "\n"
   ]
  },
  {
   "cell_type": "markdown",
   "metadata": {
    "id": "OjCfD9yTIsoW"
   },
   "source": [
    "<a id = Section822></a>\n",
    "#### **8.2.2 Multinomial Naive Bayes**"
   ]
  },
  {
   "cell_type": "code",
   "execution_count": null,
   "metadata": {
    "colab": {
     "base_uri": "https://localhost:8080/",
     "height": 978
    },
    "executionInfo": {
     "elapsed": 14158,
     "status": "ok",
     "timestamp": 1585650584149,
     "user": {
      "displayName": "Mukesh Kumar",
      "photoUrl": "https://lh3.googleusercontent.com/a-/AOh14GjlcDlZf8Lr8SWM0ugfq17HC9TF79sbME_lLaRW=s64",
      "userId": "12802686450045644565"
     },
     "user_tz": -330
    },
    "id": "7bKgfS4uIwRy",
    "outputId": "a85dd95b-2f2e-4285-ddf7-80b0beb32efa"
   },
   "outputs": [
    {
     "name": "stdout",
     "output_type": "stream",
     "text": [
      "Accuracy Score (Train Data): 0.802\n",
      "Accuracy Score (Test Data): 0.785\n",
      "              precision    recall  f1-score   support\n",
      "\n",
      "           0       0.80      0.79      0.80     21925\n",
      "           1       0.76      0.77      0.77     30630\n",
      "           2       0.71      0.59      0.65      1523\n",
      "           3       0.85      0.94      0.89     12566\n",
      "           4       0.72      0.88      0.79      5080\n",
      "           5       0.48      0.57      0.52      1714\n",
      "           6       0.55      0.78      0.65      3998\n",
      "           7       0.52      0.76      0.61      6781\n",
      "           8       0.59      0.35      0.44      3755\n",
      "           9       0.52      0.20      0.29      1344\n",
      "          10       0.54      0.21      0.30      1892\n",
      "          11       0.00      0.00      0.00       349\n",
      "          12       0.62      0.37      0.46      2953\n",
      "          13       0.56      0.38      0.46      6261\n",
      "          14       0.00      0.00      0.00        58\n",
      "          15       1.00      0.00      0.01       289\n",
      "          16       0.00      0.00      0.00       289\n",
      "          17       1.00      1.00      1.00     30630\n",
      "\n",
      "    accuracy                           0.78    132037\n",
      "   macro avg       0.57      0.48      0.48    132037\n",
      "weighted avg       0.78      0.78      0.77    132037\n",
      "\n"
     ]
    },
    {
     "data": {
      "image/png": "[encoded data removed]",
      "text/plain": [
       "<Figure size 720x576 with 1 Axes>"
      ]
     },
     "metadata": {
      "tags": []
     },
     "output_type": "display_data"
    }
   ],
   "source": [
    "# Have some patience, might take some time :)\n",
    "mnc  = MultinomialNB()\n",
    "mnc.fit(X_train, y_train)\n",
    "y_pred = mnc.predict(X_test)\n",
    "\n",
    "# Accuracy Estimation\n",
    "print('Accuracy Score (Train Data):', np.round(mnc.score(X_train, y_train), decimals = 3))\n",
    "print('Accuracy Score (Test Data):', np.round(mnc.score(X_test, y_test), decimals = 3))\n",
    "\n",
    "# Classification Report\n",
    "mnc_report = classification_report(y_test, y_pred)\n",
    "print(mnc_report)"
   ]
  },
  {
   "cell_type": "markdown",
   "metadata": {
    "id": "sU3da-0cRwyC"
   },
   "source": [
    "**Observation:**\n",
    "\n",
    "- There is evidence of overfitting, as the training score is higher than the testing score.\n",
    "\n",
    "However, there is improvement compared to the previous model.\n",
    "\n",
    "Logistic Regression remains as an option to try next."
   ]
  },
  {
   "cell_type": "markdown",
   "metadata": {
    "id": "c771DXc9Fb2N"
   },
   "source": [
    "<a id = Section823></a>\n",
    "#### **8.2.3 Logistic Regression**"
   ]
  },
  {
   "cell_type": "code",
   "execution_count": null,
   "metadata": {
    "colab": {
     "base_uri": "https://localhost:8080/",
     "height": 978
    },
    "executionInfo": {
     "elapsed": 815948,
     "status": "ok",
     "timestamp": 1585650503895,
     "user": {
      "displayName": "Mukesh Kumar",
      "photoUrl": "https://lh3.googleusercontent.com/a-/AOh14GjlcDlZf8Lr8SWM0ugfq17HC9TF79sbME_lLaRW=s64",
      "userId": "12802686450045644565"
     },
     "user_tz": -330
    },
    "id": "idqNNrZrFeAi",
    "outputId": "2d50324f-c15c-4eee-ffc4-6cc90760a826"
   },
   "outputs": [
    {
     "name": "stdout",
     "output_type": "stream",
     "text": [
      "Accuracy Score (Train Data): 0.799\n",
      "Accuracy Score (Test Data): 0.791\n",
      "              precision    recall  f1-score   support\n",
      "\n",
      "           0       0.74      0.84      0.79     21925\n",
      "           1       0.72      0.85      0.78     30630\n",
      "           2       0.70      0.56      0.62      1523\n",
      "           3       0.90      0.89      0.90     12566\n",
      "           4       0.86      0.78      0.82      5080\n",
      "           5       0.57      0.38      0.46      1714\n",
      "           6       0.67      0.66      0.66      3998\n",
      "           7       0.65      0.64      0.64      6781\n",
      "           8       0.60      0.41      0.49      3755\n",
      "           9       0.51      0.28      0.36      1344\n",
      "          10       0.50      0.28      0.36      1892\n",
      "          11       0.52      0.06      0.11       349\n",
      "          12       0.61      0.49      0.54      2953\n",
      "          13       0.62      0.24      0.35      6261\n",
      "          14       0.50      0.03      0.06        58\n",
      "          15       0.58      0.30      0.40       289\n",
      "          16       0.49      0.14      0.22       289\n",
      "          17       0.99      1.00      0.99     30630\n",
      "\n",
      "    accuracy                           0.79    132037\n",
      "   macro avg       0.65      0.49      0.53    132037\n",
      "weighted avg       0.78      0.79      0.78    132037\n",
      "\n"
     ]
    },
    {
     "data": {
      "image/png": "[encoded data removed]",
      "text/plain": [
       "<Figure size 720x576 with 1 Axes>"
      ]
     },
     "metadata": {
      "tags": []
     },
     "output_type": "display_data"
    }
   ],
   "source": [
    "# Have some patience, might take some time :)\n",
    "log  = LogisticRegression(random_state = 42)\n",
    "log.fit(X_train, y_train)\n",
    "y_pred = log.predict(X_test)\n",
    "\n",
    "# Accuracy Estimation\n",
    "print('Accuracy Score (Train Data):', np.round(log.score(X_train, y_train), decimals = 3))\n",
    "print('Accuracy Score (Test Data):', np.round(log.score(X_test, y_test), decimals = 3))\n",
    "\n",
    "# Classification Report\n",
    "logistic_report = classification_report(y_test, y_pred)\n",
    "print(logistic_report)"
   ]
  },
  {
   "cell_type": "markdown",
   "metadata": {
    "id": "TD7BWorpSKzA"
   },
   "source": [
    "**Observation:**\n",
    "\n",
    "It has performed better than previous models.\n",
    "\n",
    "The accuracy has improved due to SMOTE, reaching 79%.\n",
    "\n",
    "The average precision score has also improved, reaching 85%."
   ]
  },
  {
   "cell_type": "markdown",
   "metadata": {},
   "source": [
    "An in-depth analysis was performed on the data provided by CFPB.\n",
    "\n",
    "The features were investigated, and customer sentiments towards the product were chosen for analysis to categorize complaints under the respective categories.\n",
    "\n",
    "Model development was performed using various models like Random Forest, Multinomial Naive Bayes, and Logistic Regression.\n",
    "\n",
    "At baseline, these models performed poorly. Therefore, the minority classes were oversampled using SMOTE.\n",
    "\n",
    "After oversampling, the models were rebuilt and it was found that Logistic Regression outperformed all other models in terms of accuracy and precision"
   ]
  }
 ],
 "metadata": {
  "accelerator": "GPU",
  "colab": {
   "provenance": []
  },
  "kernelspec": {
   "display_name": "Python 3",
   "name": "python3"
  }
 },
 "nbformat": 4,
 "nbformat_minor": 0
}
